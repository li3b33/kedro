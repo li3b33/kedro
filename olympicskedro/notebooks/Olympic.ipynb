{
 "cells": [
  {
   "cell_type": "code",
   "execution_count": 1,
   "id": "e47948ad-4337-4b03-a8f1-7418ececcd06",
   "metadata": {},
   "outputs": [
    {
     "data": {
      "text/html": [
       "<pre style=\"white-space:pre;overflow-x:auto;line-height:normal;font-family:Menlo,'DejaVu Sans Mono',consolas,'Courier New',monospace\"><span style=\"color: #7fbfbf; text-decoration-color: #7fbfbf\">[09/15/25 22:09:42] </span><span style=\"color: #000080; text-decoration-color: #000080\">INFO    </span> Using <span style=\"color: #008000; text-decoration-color: #008000\">'C:\\Users\\gonza\\OneDrive\\Documentos\\Duoc\\Machine </span>                <span style=\"color: #7f7f7f; text-decoration-color: #7f7f7f\">__init__.py:270</span>\n",
       "<span style=\"color: #7fbfbf; text-decoration-color: #7fbfbf\">                    </span>         <span style=\"color: #008000; text-decoration-color: #008000\">Learning\\Proyecto\\venv\\Lib\\site-packages\\kedro\\framework\\project\\rich_</span> <span style=\"color: #7f7f7f; text-decoration-color: #7f7f7f\">               </span>\n",
       "<span style=\"color: #7fbfbf; text-decoration-color: #7fbfbf\">                    </span>         <span style=\"color: #008000; text-decoration-color: #008000\">logging.yml'</span> as logging configuration.                                 <span style=\"color: #7f7f7f; text-decoration-color: #7f7f7f\">               </span>\n",
       "</pre>\n"
      ],
      "text/plain": [
       "\u001b[2;36m[09/15/25 22:09:42]\u001b[0m\u001b[2;36m \u001b[0m\u001b[34mINFO    \u001b[0m Using \u001b[32m'C:\\Users\\gonza\\OneDrive\\Documentos\\Duoc\\Machine \u001b[0m                \u001b[2m__init__.py\u001b[0m\u001b[2m:\u001b[0m\u001b[2m270\u001b[0m\n",
       "\u001b[2;36m                    \u001b[0m         \u001b[32mLearning\\Proyecto\\venv\\Lib\\site-packages\\kedro\\framework\\project\\rich_\u001b[0m \u001b[2m               \u001b[0m\n",
       "\u001b[2;36m                    \u001b[0m         \u001b[32mlogging.yml'\u001b[0m as logging configuration.                                 \u001b[2m               \u001b[0m\n"
      ]
     },
     "metadata": {},
     "output_type": "display_data"
    },
    {
     "data": {
      "text/html": [
       "<pre style=\"white-space:pre;overflow-x:auto;line-height:normal;font-family:Menlo,'DejaVu Sans Mono',consolas,'Courier New',monospace\"><span style=\"color: #7fbfbf; text-decoration-color: #7fbfbf\">                    </span><span style=\"color: #000080; text-decoration-color: #000080\">INFO    </span> Registered line magic <span style=\"color: #008000; text-decoration-color: #008000\">'%reload_kedro'</span>                                   <span style=\"color: #7f7f7f; text-decoration-color: #7f7f7f\">__init__.py:63</span>\n",
       "</pre>\n"
      ],
      "text/plain": [
       "\u001b[2;36m                   \u001b[0m\u001b[2;36m \u001b[0m\u001b[34mINFO    \u001b[0m Registered line magic \u001b[32m'%reload_kedro'\u001b[0m                                   \u001b[2m__init__.py\u001b[0m\u001b[2m:\u001b[0m\u001b[2m63\u001b[0m\n"
      ]
     },
     "metadata": {},
     "output_type": "display_data"
    },
    {
     "data": {
      "text/html": [
       "<pre style=\"white-space:pre;overflow-x:auto;line-height:normal;font-family:Menlo,'DejaVu Sans Mono',consolas,'Courier New',monospace\"><span style=\"color: #7fbfbf; text-decoration-color: #7fbfbf\">                    </span><span style=\"color: #000080; text-decoration-color: #000080\">INFO    </span> Registered line magic <span style=\"color: #008000; text-decoration-color: #008000\">'%load_node'</span>                                      <span style=\"color: #7f7f7f; text-decoration-color: #7f7f7f\">__init__.py:65</span>\n",
       "</pre>\n"
      ],
      "text/plain": [
       "\u001b[2;36m                   \u001b[0m\u001b[2;36m \u001b[0m\u001b[34mINFO    \u001b[0m Registered line magic \u001b[32m'%load_node'\u001b[0m                                      \u001b[2m__init__.py\u001b[0m\u001b[2m:\u001b[0m\u001b[2m65\u001b[0m\n"
      ]
     },
     "metadata": {},
     "output_type": "display_data"
    },
    {
     "data": {
      "text/html": [
       "<pre style=\"white-space:pre;overflow-x:auto;line-height:normal;font-family:Menlo,'DejaVu Sans Mono',consolas,'Courier New',monospace\"><span style=\"color: #7fbfbf; text-decoration-color: #7fbfbf\">                    </span><span style=\"color: #000080; text-decoration-color: #000080\">INFO    </span> Resolved project path as:                                              <span style=\"color: #7f7f7f; text-decoration-color: #7f7f7f\">__init__.py:180</span>\n",
       "<span style=\"color: #7fbfbf; text-decoration-color: #7fbfbf\">                    </span>         C:\\Users\\gonza\\OneDrive\\Documentos\\Duoc\\Machine                        <span style=\"color: #7f7f7f; text-decoration-color: #7f7f7f\">               </span>\n",
       "<span style=\"color: #7fbfbf; text-decoration-color: #7fbfbf\">                    </span>         Learning\\Proyecto\\olympicskedro.                                       <span style=\"color: #7f7f7f; text-decoration-color: #7f7f7f\">               </span>\n",
       "<span style=\"color: #7fbfbf; text-decoration-color: #7fbfbf\">                    </span>         To set a different path, run <span style=\"color: #008000; text-decoration-color: #008000\">'%reload_kedro &lt;project_root&gt;'</span>            <span style=\"color: #7f7f7f; text-decoration-color: #7f7f7f\">               </span>\n",
       "</pre>\n"
      ],
      "text/plain": [
       "\u001b[2;36m                   \u001b[0m\u001b[2;36m \u001b[0m\u001b[34mINFO    \u001b[0m Resolved project path as:                                              \u001b[2m__init__.py\u001b[0m\u001b[2m:\u001b[0m\u001b[2m180\u001b[0m\n",
       "\u001b[2;36m                    \u001b[0m         C:\\Users\\gonza\\OneDrive\\Documentos\\Duoc\\Machine                        \u001b[2m               \u001b[0m\n",
       "\u001b[2;36m                    \u001b[0m         Learning\\Proyecto\\olympicskedro.                                       \u001b[2m               \u001b[0m\n",
       "\u001b[2;36m                    \u001b[0m         To set a different path, run \u001b[32m'%reload_kedro \u001b[0m\u001b[32m<\u001b[0m\u001b[32mproject_root\u001b[0m\u001b[32m>\u001b[0m\u001b[32m'\u001b[0m            \u001b[2m               \u001b[0m\n"
      ]
     },
     "metadata": {},
     "output_type": "display_data"
    },
    {
     "data": {
      "text/html": [
       "<pre style=\"white-space:pre;overflow-x:auto;line-height:normal;font-family:Menlo,'DejaVu Sans Mono',consolas,'Courier New',monospace\"><span style=\"color: #7fbfbf; text-decoration-color: #7fbfbf\">[09/15/25 22:09:45] </span><span style=\"color: #000080; text-decoration-color: #000080\">INFO    </span> Kedro is sending anonymous usage data with the sole purpose of improving <span style=\"color: #7f7f7f; text-decoration-color: #7f7f7f\">plugin.py:243</span>\n",
       "<span style=\"color: #7fbfbf; text-decoration-color: #7fbfbf\">                    </span>         the product. No personal data or IP addresses are stored on our side. To <span style=\"color: #7f7f7f; text-decoration-color: #7f7f7f\">             </span>\n",
       "<span style=\"color: #7fbfbf; text-decoration-color: #7fbfbf\">                    </span>         opt out, set the `KEDRO_DISABLE_TELEMETRY` or `DO_NOT_TRACK` environment <span style=\"color: #7f7f7f; text-decoration-color: #7f7f7f\">             </span>\n",
       "<span style=\"color: #7fbfbf; text-decoration-color: #7fbfbf\">                    </span>         variables, or create a `.telemetry` file in the current working          <span style=\"color: #7f7f7f; text-decoration-color: #7f7f7f\">             </span>\n",
       "<span style=\"color: #7fbfbf; text-decoration-color: #7fbfbf\">                    </span>         directory with the contents `consent: false`. To hide this message,      <span style=\"color: #7f7f7f; text-decoration-color: #7f7f7f\">             </span>\n",
       "<span style=\"color: #7fbfbf; text-decoration-color: #7fbfbf\">                    </span>         explicitly grant or deny consent. Read more at                           <span style=\"color: #7f7f7f; text-decoration-color: #7f7f7f\">             </span>\n",
       "<span style=\"color: #7fbfbf; text-decoration-color: #7fbfbf\">                    </span>         <span style=\"color: #0000ff; text-decoration-color: #0000ff; text-decoration: underline\">https://docs.kedro.org/en/stable/configuration/telemetry.html</span>            <span style=\"color: #7f7f7f; text-decoration-color: #7f7f7f\">             </span>\n",
       "</pre>\n"
      ],
      "text/plain": [
       "\u001b[2;36m[09/15/25 22:09:45]\u001b[0m\u001b[2;36m \u001b[0m\u001b[34mINFO    \u001b[0m Kedro is sending anonymous usage data with the sole purpose of improving \u001b[2mplugin.py\u001b[0m\u001b[2m:\u001b[0m\u001b[2m243\u001b[0m\n",
       "\u001b[2;36m                    \u001b[0m         the product. No personal data or IP addresses are stored on our side. To \u001b[2m             \u001b[0m\n",
       "\u001b[2;36m                    \u001b[0m         opt out, set the `KEDRO_DISABLE_TELEMETRY` or `DO_NOT_TRACK` environment \u001b[2m             \u001b[0m\n",
       "\u001b[2;36m                    \u001b[0m         variables, or create a `.telemetry` file in the current working          \u001b[2m             \u001b[0m\n",
       "\u001b[2;36m                    \u001b[0m         directory with the contents `consent: false`. To hide this message,      \u001b[2m             \u001b[0m\n",
       "\u001b[2;36m                    \u001b[0m         explicitly grant or deny consent. Read more at                           \u001b[2m             \u001b[0m\n",
       "\u001b[2;36m                    \u001b[0m         \u001b[4;94mhttps://docs.kedro.org/en/stable/configuration/telemetry.html\u001b[0m            \u001b[2m             \u001b[0m\n"
      ]
     },
     "metadata": {},
     "output_type": "display_data"
    },
    {
     "data": {
      "text/html": [
       "<pre style=\"white-space:pre;overflow-x:auto;line-height:normal;font-family:Menlo,'DejaVu Sans Mono',consolas,'Courier New',monospace\"><span style=\"color: #7fbfbf; text-decoration-color: #7fbfbf\">[09/15/25 22:09:46] </span><span style=\"color: #000080; text-decoration-color: #000080\">INFO    </span> Kedro project OlympicsKedro                                            <span style=\"color: #7f7f7f; text-decoration-color: #7f7f7f\">__init__.py:146</span>\n",
       "</pre>\n"
      ],
      "text/plain": [
       "\u001b[2;36m[09/15/25 22:09:46]\u001b[0m\u001b[2;36m \u001b[0m\u001b[34mINFO    \u001b[0m Kedro project OlympicsKedro                                            \u001b[2m__init__.py\u001b[0m\u001b[2m:\u001b[0m\u001b[2m146\u001b[0m\n"
      ]
     },
     "metadata": {},
     "output_type": "display_data"
    },
    {
     "data": {
      "text/html": [
       "<pre style=\"white-space:pre;overflow-x:auto;line-height:normal;font-family:Menlo,'DejaVu Sans Mono',consolas,'Courier New',monospace\"><span style=\"color: #7fbfbf; text-decoration-color: #7fbfbf\">                    </span><span style=\"color: #000080; text-decoration-color: #000080\">INFO    </span> Defined global variable <span style=\"color: #008000; text-decoration-color: #008000\">'context'</span>, <span style=\"color: #008000; text-decoration-color: #008000\">'session'</span>, <span style=\"color: #008000; text-decoration-color: #008000\">'catalog'</span> and            <span style=\"color: #7f7f7f; text-decoration-color: #7f7f7f\">__init__.py:147</span>\n",
       "<span style=\"color: #7fbfbf; text-decoration-color: #7fbfbf\">                    </span>         <span style=\"color: #008000; text-decoration-color: #008000\">'pipelines'</span>                                                            <span style=\"color: #7f7f7f; text-decoration-color: #7f7f7f\">               </span>\n",
       "</pre>\n"
      ],
      "text/plain": [
       "\u001b[2;36m                   \u001b[0m\u001b[2;36m \u001b[0m\u001b[34mINFO    \u001b[0m Defined global variable \u001b[32m'context'\u001b[0m, \u001b[32m'session'\u001b[0m, \u001b[32m'catalog'\u001b[0m and            \u001b[2m__init__.py\u001b[0m\u001b[2m:\u001b[0m\u001b[2m147\u001b[0m\n",
       "\u001b[2;36m                    \u001b[0m         \u001b[32m'pipelines'\u001b[0m                                                            \u001b[2m               \u001b[0m\n"
      ]
     },
     "metadata": {},
     "output_type": "display_data"
    },
    {
     "data": {
      "text/html": [
       "<pre style=\"white-space:pre;overflow-x:auto;line-height:normal;font-family:Menlo,'DejaVu Sans Mono',consolas,'Courier New',monospace\"><span style=\"color: #7fbfbf; text-decoration-color: #7fbfbf\">                    </span><span style=\"color: #000080; text-decoration-color: #000080\">INFO    </span> Registered line magic <span style=\"color: #008000; text-decoration-color: #008000\">'run_viz'</span>                                        <span style=\"color: #7f7f7f; text-decoration-color: #7f7f7f\">__init__.py:153</span>\n",
       "</pre>\n"
      ],
      "text/plain": [
       "\u001b[2;36m                   \u001b[0m\u001b[2;36m \u001b[0m\u001b[34mINFO    \u001b[0m Registered line magic \u001b[32m'run_viz'\u001b[0m                                        \u001b[2m__init__.py\u001b[0m\u001b[2m:\u001b[0m\u001b[2m153\u001b[0m\n"
      ]
     },
     "metadata": {},
     "output_type": "display_data"
    }
   ],
   "source": [
    "%load_ext kedro.ipython"
   ]
  },
  {
   "cell_type": "code",
   "execution_count": 3,
   "id": "d80a2d34-c368-4392-b031-62ffc988866c",
   "metadata": {},
   "outputs": [],
   "source": [
    "import pandas as pd\n",
    "import numpy as np\n",
    "import seaborn as sns\n",
    "import matplotlib.pyplot as plt\n",
    "%matplotlib inline\n",
    "sns.set(color_codes=True)"
   ]
  },
  {
   "cell_type": "code",
   "execution_count": 7,
   "id": "1e59f2b6-820e-4282-8f17-8c70d60d57df",
   "metadata": {},
   "outputs": [
    {
     "data": {
      "text/html": [
       "<pre style=\"white-space:pre;overflow-x:auto;line-height:normal;font-family:Menlo,'DejaVu Sans Mono',consolas,'Courier New',monospace\"></pre>\n"
      ],
      "text/plain": []
     },
     "metadata": {},
     "output_type": "display_data"
    },
    {
     "data": {
      "text/plain": [
       "\n",
       "\u001b[1m[\u001b[0m\n",
       "    \u001b[32m'summer_raw'\u001b[0m,\n",
       "    \u001b[32m'dictionary_raw'\u001b[0m,\n",
       "    \u001b[32m'winter_clean'\u001b[0m,\n",
       "    \u001b[32m'summer_clean'\u001b[0m,\n",
       "    \u001b[32m'dictionary_clean'\u001b[0m,\n",
       "    \u001b[32m'dictionary_scaled'\u001b[0m,\n",
       "    \u001b[32m'summer_with_medal_flag'\u001b[0m,\n",
       "    \u001b[32m'parameters'\u001b[0m,\n",
       "    \u001b[32m'winter_raw'\u001b[0m\n",
       "\u001b[1m]\u001b[0m"
      ]
     },
     "execution_count": 7,
     "metadata": {},
     "output_type": "execute_result"
    }
   ],
   "source": [
    "catalog.keys()"
   ]
  },
  {
   "cell_type": "code",
   "execution_count": 8,
   "id": "935a4bfe-13a8-4224-b994-04c7c066cc46",
   "metadata": {},
   "outputs": [
    {
     "data": {
      "text/html": [
       "<pre style=\"white-space:pre;overflow-x:auto;line-height:normal;font-family:Menlo,'DejaVu Sans Mono',consolas,'Courier New',monospace\"><span style=\"color: #7fbfbf; text-decoration-color: #7fbfbf\">[09/15/25 22:23:35] </span><span style=\"color: #000080; text-decoration-color: #000080\">INFO    </span> Loading data from <span style=\"color: #ff8700; text-decoration-color: #ff8700\">summer_raw</span> <span style=\"font-weight: bold\">(</span>ParquetDataset<span style=\"font-weight: bold\">)</span><span style=\"color: #808000; text-decoration-color: #808000\">...</span>                  <span style=\"color: #7f7f7f; text-decoration-color: #7f7f7f\">data_catalog.py:1046</span>\n",
       "</pre>\n"
      ],
      "text/plain": [
       "\u001b[2;36m[09/15/25 22:23:35]\u001b[0m\u001b[2;36m \u001b[0m\u001b[34mINFO    \u001b[0m Loading data from \u001b[38;5;208msummer_raw\u001b[0m \u001b[1m(\u001b[0mParquetDataset\u001b[1m)\u001b[0m\u001b[33m...\u001b[0m                  \u001b[2mdata_catalog.py\u001b[0m\u001b[2m:\u001b[0m\u001b[2m1046\u001b[0m\n"
      ]
     },
     "metadata": {},
     "output_type": "display_data"
    },
    {
     "data": {
      "text/html": [
       "<pre style=\"white-space:pre;overflow-x:auto;line-height:normal;font-family:Menlo,'DejaVu Sans Mono',consolas,'Courier New',monospace\"></pre>\n"
      ],
      "text/plain": []
     },
     "metadata": {},
     "output_type": "display_data"
    },
    {
     "data": {
      "text/html": [
       "<div>\n",
       "<style scoped>\n",
       "    .dataframe tbody tr th:only-of-type {\n",
       "        vertical-align: middle;\n",
       "    }\n",
       "\n",
       "    .dataframe tbody tr th {\n",
       "        vertical-align: top;\n",
       "    }\n",
       "\n",
       "    .dataframe thead th {\n",
       "        text-align: right;\n",
       "    }\n",
       "</style>\n",
       "<table border=\"1\" class=\"dataframe\">\n",
       "  <thead>\n",
       "    <tr style=\"text-align: right;\">\n",
       "      <th></th>\n",
       "      <th>Year</th>\n",
       "      <th>City</th>\n",
       "      <th>Sport</th>\n",
       "      <th>Discipline</th>\n",
       "      <th>Athlete</th>\n",
       "      <th>Country</th>\n",
       "      <th>Gender</th>\n",
       "      <th>Event</th>\n",
       "      <th>Medal</th>\n",
       "    </tr>\n",
       "  </thead>\n",
       "  <tbody>\n",
       "    <tr>\n",
       "      <th>0</th>\n",
       "      <td>1896</td>\n",
       "      <td>Athens</td>\n",
       "      <td>Aquatics</td>\n",
       "      <td>Swimming</td>\n",
       "      <td>HAJOS, Alfred</td>\n",
       "      <td>HUN</td>\n",
       "      <td>Men</td>\n",
       "      <td>100M Freestyle</td>\n",
       "      <td>Gold</td>\n",
       "    </tr>\n",
       "    <tr>\n",
       "      <th>1</th>\n",
       "      <td>1896</td>\n",
       "      <td>Athens</td>\n",
       "      <td>Aquatics</td>\n",
       "      <td>Swimming</td>\n",
       "      <td>HERSCHMANN, Otto</td>\n",
       "      <td>AUT</td>\n",
       "      <td>Men</td>\n",
       "      <td>100M Freestyle</td>\n",
       "      <td>Silver</td>\n",
       "    </tr>\n",
       "    <tr>\n",
       "      <th>2</th>\n",
       "      <td>1896</td>\n",
       "      <td>Athens</td>\n",
       "      <td>Aquatics</td>\n",
       "      <td>Swimming</td>\n",
       "      <td>DRIVAS, Dimitrios</td>\n",
       "      <td>GRE</td>\n",
       "      <td>Men</td>\n",
       "      <td>100M Freestyle For Sailors</td>\n",
       "      <td>Bronze</td>\n",
       "    </tr>\n",
       "    <tr>\n",
       "      <th>3</th>\n",
       "      <td>1896</td>\n",
       "      <td>Athens</td>\n",
       "      <td>Aquatics</td>\n",
       "      <td>Swimming</td>\n",
       "      <td>MALOKINIS, Ioannis</td>\n",
       "      <td>GRE</td>\n",
       "      <td>Men</td>\n",
       "      <td>100M Freestyle For Sailors</td>\n",
       "      <td>Gold</td>\n",
       "    </tr>\n",
       "    <tr>\n",
       "      <th>4</th>\n",
       "      <td>1896</td>\n",
       "      <td>Athens</td>\n",
       "      <td>Aquatics</td>\n",
       "      <td>Swimming</td>\n",
       "      <td>CHASAPIS, Spiridon</td>\n",
       "      <td>GRE</td>\n",
       "      <td>Men</td>\n",
       "      <td>100M Freestyle For Sailors</td>\n",
       "      <td>Silver</td>\n",
       "    </tr>\n",
       "    <tr>\n",
       "      <th>...</th>\n",
       "      <td>...</td>\n",
       "      <td>...</td>\n",
       "      <td>...</td>\n",
       "      <td>...</td>\n",
       "      <td>...</td>\n",
       "      <td>...</td>\n",
       "      <td>...</td>\n",
       "      <td>...</td>\n",
       "      <td>...</td>\n",
       "    </tr>\n",
       "    <tr>\n",
       "      <th>31160</th>\n",
       "      <td>2012</td>\n",
       "      <td>London</td>\n",
       "      <td>Wrestling</td>\n",
       "      <td>Wrestling Freestyle</td>\n",
       "      <td>JANIKOWSKI, Damian</td>\n",
       "      <td>POL</td>\n",
       "      <td>Men</td>\n",
       "      <td>Wg 84 KG</td>\n",
       "      <td>Bronze</td>\n",
       "    </tr>\n",
       "    <tr>\n",
       "      <th>31161</th>\n",
       "      <td>2012</td>\n",
       "      <td>London</td>\n",
       "      <td>Wrestling</td>\n",
       "      <td>Wrestling Freestyle</td>\n",
       "      <td>REZAEI, Ghasem Gholamreza</td>\n",
       "      <td>IRI</td>\n",
       "      <td>Men</td>\n",
       "      <td>Wg 96 KG</td>\n",
       "      <td>Gold</td>\n",
       "    </tr>\n",
       "    <tr>\n",
       "      <th>31162</th>\n",
       "      <td>2012</td>\n",
       "      <td>London</td>\n",
       "      <td>Wrestling</td>\n",
       "      <td>Wrestling Freestyle</td>\n",
       "      <td>TOTROV, Rustam</td>\n",
       "      <td>RUS</td>\n",
       "      <td>Men</td>\n",
       "      <td>Wg 96 KG</td>\n",
       "      <td>Silver</td>\n",
       "    </tr>\n",
       "    <tr>\n",
       "      <th>31163</th>\n",
       "      <td>2012</td>\n",
       "      <td>London</td>\n",
       "      <td>Wrestling</td>\n",
       "      <td>Wrestling Freestyle</td>\n",
       "      <td>ALEKSANYAN, Artur</td>\n",
       "      <td>ARM</td>\n",
       "      <td>Men</td>\n",
       "      <td>Wg 96 KG</td>\n",
       "      <td>Bronze</td>\n",
       "    </tr>\n",
       "    <tr>\n",
       "      <th>31164</th>\n",
       "      <td>2012</td>\n",
       "      <td>London</td>\n",
       "      <td>Wrestling</td>\n",
       "      <td>Wrestling Freestyle</td>\n",
       "      <td>LIDBERG, Jimmy</td>\n",
       "      <td>SWE</td>\n",
       "      <td>Men</td>\n",
       "      <td>Wg 96 KG</td>\n",
       "      <td>Bronze</td>\n",
       "    </tr>\n",
       "  </tbody>\n",
       "</table>\n",
       "<p>31165 rows × 9 columns</p>\n",
       "</div>"
      ],
      "text/plain": [
       "\n",
       "       Year    City      Sport           Discipline  \\\n",
       "\u001b[1;36m0\u001b[0m      \u001b[1;36m1896\u001b[0m  Athens   Aquatics             Swimming   \n",
       "\u001b[1;36m1\u001b[0m      \u001b[1;36m1896\u001b[0m  Athens   Aquatics             Swimming   \n",
       "\u001b[1;36m2\u001b[0m      \u001b[1;36m1896\u001b[0m  Athens   Aquatics             Swimming   \n",
       "\u001b[1;36m3\u001b[0m      \u001b[1;36m1896\u001b[0m  Athens   Aquatics             Swimming   \n",
       "\u001b[1;36m4\u001b[0m      \u001b[1;36m1896\u001b[0m  Athens   Aquatics             Swimming   \n",
       "\u001b[33m...\u001b[0m     \u001b[33m...\u001b[0m     \u001b[33m...\u001b[0m        \u001b[33m...\u001b[0m                  \u001b[33m...\u001b[0m   \n",
       "\u001b[1;36m31160\u001b[0m  \u001b[1;36m2012\u001b[0m  London  Wrestling  Wrestling Freestyle   \n",
       "\u001b[1;36m31161\u001b[0m  \u001b[1;36m2012\u001b[0m  London  Wrestling  Wrestling Freestyle   \n",
       "\u001b[1;36m31162\u001b[0m  \u001b[1;36m2012\u001b[0m  London  Wrestling  Wrestling Freestyle   \n",
       "\u001b[1;36m31163\u001b[0m  \u001b[1;36m2012\u001b[0m  London  Wrestling  Wrestling Freestyle   \n",
       "\u001b[1;36m31164\u001b[0m  \u001b[1;36m2012\u001b[0m  London  Wrestling  Wrestling Freestyle   \n",
       "\n",
       "                         Athlete Country Gender                       Event  \\\n",
       "\u001b[1;36m0\u001b[0m                  HAJOS, Alfred     HUN    Men              100M Freestyle   \n",
       "\u001b[1;36m1\u001b[0m               HERSCHMANN, Otto     AUT    Men              100M Freestyle   \n",
       "\u001b[1;36m2\u001b[0m              DRIVAS, Dimitrios     GRE    Men  100M Freestyle For Sailors   \n",
       "\u001b[1;36m3\u001b[0m             MALOKINIS, Ioannis     GRE    Men  100M Freestyle For Sailors   \n",
       "\u001b[1;36m4\u001b[0m             CHASAPIS, Spiridon     GRE    Men  100M Freestyle For Sailors   \n",
       "\u001b[33m...\u001b[0m                          \u001b[33m...\u001b[0m     \u001b[33m...\u001b[0m    \u001b[33m...\u001b[0m                         \u001b[33m...\u001b[0m   \n",
       "\u001b[1;36m31160\u001b[0m         JANIKOWSKI, Damian     POL    Men                    Wg \u001b[1;36m84\u001b[0m KG   \n",
       "\u001b[1;36m31161\u001b[0m  REZAEI, Ghasem Gholamreza     IRI    Men                    Wg \u001b[1;36m96\u001b[0m KG   \n",
       "\u001b[1;36m31162\u001b[0m             TOTROV, Rustam     RUS    Men                    Wg \u001b[1;36m96\u001b[0m KG   \n",
       "\u001b[1;36m31163\u001b[0m          ALEKSANYAN, Artur     ARM    Men                    Wg \u001b[1;36m96\u001b[0m KG   \n",
       "\u001b[1;36m31164\u001b[0m             LIDBERG, Jimmy     SWE    Men                    Wg \u001b[1;36m96\u001b[0m KG   \n",
       "\n",
       "        Medal  \n",
       "\u001b[1;36m0\u001b[0m        Gold  \n",
       "\u001b[1;36m1\u001b[0m      Silver  \n",
       "\u001b[1;36m2\u001b[0m      Bronze  \n",
       "\u001b[1;36m3\u001b[0m        Gold  \n",
       "\u001b[1;36m4\u001b[0m      Silver  \n",
       "\u001b[33m...\u001b[0m       \u001b[33m...\u001b[0m  \n",
       "\u001b[1;36m31160\u001b[0m  Bronze  \n",
       "\u001b[1;36m31161\u001b[0m    Gold  \n",
       "\u001b[1;36m31162\u001b[0m  Silver  \n",
       "\u001b[1;36m31163\u001b[0m  Bronze  \n",
       "\u001b[1;36m31164\u001b[0m  Bronze  \n",
       "\n",
       "\u001b[1m[\u001b[0m\u001b[1;36m31165\u001b[0m rows x \u001b[1;36m9\u001b[0m columns\u001b[1m]\u001b[0m"
      ]
     },
     "execution_count": 8,
     "metadata": {},
     "output_type": "execute_result"
    }
   ],
   "source": [
    "catalog.load('summer_raw')"
   ]
  },
  {
   "cell_type": "code",
   "execution_count": 9,
   "id": "9b919b4a-68e9-4d15-bb5b-5efe849df359",
   "metadata": {},
   "outputs": [
    {
     "data": {
      "text/html": [
       "<pre style=\"white-space:pre;overflow-x:auto;line-height:normal;font-family:Menlo,'DejaVu Sans Mono',consolas,'Courier New',monospace\"><span style=\"color: #7fbfbf; text-decoration-color: #7fbfbf\">[09/15/25 22:29:06] </span><span style=\"color: #000080; text-decoration-color: #000080\">INFO    </span> Loading data from <span style=\"color: #ff8700; text-decoration-color: #ff8700\">summer_raw</span> <span style=\"font-weight: bold\">(</span>ParquetDataset<span style=\"font-weight: bold\">)</span><span style=\"color: #808000; text-decoration-color: #808000\">...</span>                  <span style=\"color: #7f7f7f; text-decoration-color: #7f7f7f\">data_catalog.py:1046</span>\n",
       "</pre>\n"
      ],
      "text/plain": [
       "\u001b[2;36m[09/15/25 22:29:06]\u001b[0m\u001b[2;36m \u001b[0m\u001b[34mINFO    \u001b[0m Loading data from \u001b[38;5;208msummer_raw\u001b[0m \u001b[1m(\u001b[0mParquetDataset\u001b[1m)\u001b[0m\u001b[33m...\u001b[0m                  \u001b[2mdata_catalog.py\u001b[0m\u001b[2m:\u001b[0m\u001b[2m1046\u001b[0m\n"
      ]
     },
     "metadata": {},
     "output_type": "display_data"
    }
   ],
   "source": [
    "df_summer = catalog.load('summer_raw')"
   ]
  },
  {
   "cell_type": "code",
   "execution_count": 10,
   "id": "7d526a44-2ef3-4013-9f19-ecbfed0997d1",
   "metadata": {},
   "outputs": [
    {
     "data": {
      "text/html": [
       "<pre style=\"white-space:pre;overflow-x:auto;line-height:normal;font-family:Menlo,'DejaVu Sans Mono',consolas,'Courier New',monospace\"></pre>\n"
      ],
      "text/plain": []
     },
     "metadata": {},
     "output_type": "display_data"
    },
    {
     "data": {
      "text/html": [
       "<div>\n",
       "<style scoped>\n",
       "    .dataframe tbody tr th:only-of-type {\n",
       "        vertical-align: middle;\n",
       "    }\n",
       "\n",
       "    .dataframe tbody tr th {\n",
       "        vertical-align: top;\n",
       "    }\n",
       "\n",
       "    .dataframe thead th {\n",
       "        text-align: right;\n",
       "    }\n",
       "</style>\n",
       "<table border=\"1\" class=\"dataframe\">\n",
       "  <thead>\n",
       "    <tr style=\"text-align: right;\">\n",
       "      <th></th>\n",
       "      <th>Year</th>\n",
       "      <th>City</th>\n",
       "      <th>Sport</th>\n",
       "      <th>Discipline</th>\n",
       "      <th>Athlete</th>\n",
       "      <th>Country</th>\n",
       "      <th>Gender</th>\n",
       "      <th>Event</th>\n",
       "      <th>Medal</th>\n",
       "    </tr>\n",
       "  </thead>\n",
       "  <tbody>\n",
       "    <tr>\n",
       "      <th>0</th>\n",
       "      <td>1896</td>\n",
       "      <td>Athens</td>\n",
       "      <td>Aquatics</td>\n",
       "      <td>Swimming</td>\n",
       "      <td>HAJOS, Alfred</td>\n",
       "      <td>HUN</td>\n",
       "      <td>Men</td>\n",
       "      <td>100M Freestyle</td>\n",
       "      <td>Gold</td>\n",
       "    </tr>\n",
       "    <tr>\n",
       "      <th>1</th>\n",
       "      <td>1896</td>\n",
       "      <td>Athens</td>\n",
       "      <td>Aquatics</td>\n",
       "      <td>Swimming</td>\n",
       "      <td>HERSCHMANN, Otto</td>\n",
       "      <td>AUT</td>\n",
       "      <td>Men</td>\n",
       "      <td>100M Freestyle</td>\n",
       "      <td>Silver</td>\n",
       "    </tr>\n",
       "    <tr>\n",
       "      <th>2</th>\n",
       "      <td>1896</td>\n",
       "      <td>Athens</td>\n",
       "      <td>Aquatics</td>\n",
       "      <td>Swimming</td>\n",
       "      <td>DRIVAS, Dimitrios</td>\n",
       "      <td>GRE</td>\n",
       "      <td>Men</td>\n",
       "      <td>100M Freestyle For Sailors</td>\n",
       "      <td>Bronze</td>\n",
       "    </tr>\n",
       "    <tr>\n",
       "      <th>3</th>\n",
       "      <td>1896</td>\n",
       "      <td>Athens</td>\n",
       "      <td>Aquatics</td>\n",
       "      <td>Swimming</td>\n",
       "      <td>MALOKINIS, Ioannis</td>\n",
       "      <td>GRE</td>\n",
       "      <td>Men</td>\n",
       "      <td>100M Freestyle For Sailors</td>\n",
       "      <td>Gold</td>\n",
       "    </tr>\n",
       "    <tr>\n",
       "      <th>4</th>\n",
       "      <td>1896</td>\n",
       "      <td>Athens</td>\n",
       "      <td>Aquatics</td>\n",
       "      <td>Swimming</td>\n",
       "      <td>CHASAPIS, Spiridon</td>\n",
       "      <td>GRE</td>\n",
       "      <td>Men</td>\n",
       "      <td>100M Freestyle For Sailors</td>\n",
       "      <td>Silver</td>\n",
       "    </tr>\n",
       "  </tbody>\n",
       "</table>\n",
       "</div>"
      ],
      "text/plain": [
       "\n",
       "   Year    City     Sport Discipline             Athlete Country Gender  \\\n",
       "\u001b[1;36m0\u001b[0m  \u001b[1;36m1896\u001b[0m  Athens  Aquatics   Swimming       HAJOS, Alfred     HUN    Men   \n",
       "\u001b[1;36m1\u001b[0m  \u001b[1;36m1896\u001b[0m  Athens  Aquatics   Swimming    HERSCHMANN, Otto     AUT    Men   \n",
       "\u001b[1;36m2\u001b[0m  \u001b[1;36m1896\u001b[0m  Athens  Aquatics   Swimming   DRIVAS, Dimitrios     GRE    Men   \n",
       "\u001b[1;36m3\u001b[0m  \u001b[1;36m1896\u001b[0m  Athens  Aquatics   Swimming  MALOKINIS, Ioannis     GRE    Men   \n",
       "\u001b[1;36m4\u001b[0m  \u001b[1;36m1896\u001b[0m  Athens  Aquatics   Swimming  CHASAPIS, Spiridon     GRE    Men   \n",
       "\n",
       "                        Event   Medal  \n",
       "\u001b[1;36m0\u001b[0m              100M Freestyle    Gold  \n",
       "\u001b[1;36m1\u001b[0m              100M Freestyle  Silver  \n",
       "\u001b[1;36m2\u001b[0m  100M Freestyle For Sailors  Bronze  \n",
       "\u001b[1;36m3\u001b[0m  100M Freestyle For Sailors    Gold  \n",
       "\u001b[1;36m4\u001b[0m  100M Freestyle For Sailors  Silver  "
      ]
     },
     "execution_count": 10,
     "metadata": {},
     "output_type": "execute_result"
    }
   ],
   "source": [
    "df_summer.head()"
   ]
  },
  {
   "cell_type": "code",
   "execution_count": 11,
   "id": "74fc58a1-c2e3-436f-801e-d93e30f59a46",
   "metadata": {},
   "outputs": [
    {
     "data": {
      "text/html": [
       "<pre style=\"white-space:pre;overflow-x:auto;line-height:normal;font-family:Menlo,'DejaVu Sans Mono',consolas,'Courier New',monospace\"></pre>\n"
      ],
      "text/plain": []
     },
     "metadata": {},
     "output_type": "display_data"
    },
    {
     "data": {
      "text/html": [
       "<div>\n",
       "<style scoped>\n",
       "    .dataframe tbody tr th:only-of-type {\n",
       "        vertical-align: middle;\n",
       "    }\n",
       "\n",
       "    .dataframe tbody tr th {\n",
       "        vertical-align: top;\n",
       "    }\n",
       "\n",
       "    .dataframe thead th {\n",
       "        text-align: right;\n",
       "    }\n",
       "</style>\n",
       "<table border=\"1\" class=\"dataframe\">\n",
       "  <thead>\n",
       "    <tr style=\"text-align: right;\">\n",
       "      <th></th>\n",
       "      <th>Year</th>\n",
       "      <th>City</th>\n",
       "      <th>Sport</th>\n",
       "      <th>Discipline</th>\n",
       "      <th>Athlete</th>\n",
       "      <th>Country</th>\n",
       "      <th>Gender</th>\n",
       "      <th>Event</th>\n",
       "      <th>Medal</th>\n",
       "    </tr>\n",
       "  </thead>\n",
       "  <tbody>\n",
       "    <tr>\n",
       "      <th>31160</th>\n",
       "      <td>2012</td>\n",
       "      <td>London</td>\n",
       "      <td>Wrestling</td>\n",
       "      <td>Wrestling Freestyle</td>\n",
       "      <td>JANIKOWSKI, Damian</td>\n",
       "      <td>POL</td>\n",
       "      <td>Men</td>\n",
       "      <td>Wg 84 KG</td>\n",
       "      <td>Bronze</td>\n",
       "    </tr>\n",
       "    <tr>\n",
       "      <th>31161</th>\n",
       "      <td>2012</td>\n",
       "      <td>London</td>\n",
       "      <td>Wrestling</td>\n",
       "      <td>Wrestling Freestyle</td>\n",
       "      <td>REZAEI, Ghasem Gholamreza</td>\n",
       "      <td>IRI</td>\n",
       "      <td>Men</td>\n",
       "      <td>Wg 96 KG</td>\n",
       "      <td>Gold</td>\n",
       "    </tr>\n",
       "    <tr>\n",
       "      <th>31162</th>\n",
       "      <td>2012</td>\n",
       "      <td>London</td>\n",
       "      <td>Wrestling</td>\n",
       "      <td>Wrestling Freestyle</td>\n",
       "      <td>TOTROV, Rustam</td>\n",
       "      <td>RUS</td>\n",
       "      <td>Men</td>\n",
       "      <td>Wg 96 KG</td>\n",
       "      <td>Silver</td>\n",
       "    </tr>\n",
       "    <tr>\n",
       "      <th>31163</th>\n",
       "      <td>2012</td>\n",
       "      <td>London</td>\n",
       "      <td>Wrestling</td>\n",
       "      <td>Wrestling Freestyle</td>\n",
       "      <td>ALEKSANYAN, Artur</td>\n",
       "      <td>ARM</td>\n",
       "      <td>Men</td>\n",
       "      <td>Wg 96 KG</td>\n",
       "      <td>Bronze</td>\n",
       "    </tr>\n",
       "    <tr>\n",
       "      <th>31164</th>\n",
       "      <td>2012</td>\n",
       "      <td>London</td>\n",
       "      <td>Wrestling</td>\n",
       "      <td>Wrestling Freestyle</td>\n",
       "      <td>LIDBERG, Jimmy</td>\n",
       "      <td>SWE</td>\n",
       "      <td>Men</td>\n",
       "      <td>Wg 96 KG</td>\n",
       "      <td>Bronze</td>\n",
       "    </tr>\n",
       "  </tbody>\n",
       "</table>\n",
       "</div>"
      ],
      "text/plain": [
       "\n",
       "       Year    City      Sport           Discipline  \\\n",
       "\u001b[1;36m31160\u001b[0m  \u001b[1;36m2012\u001b[0m  London  Wrestling  Wrestling Freestyle   \n",
       "\u001b[1;36m31161\u001b[0m  \u001b[1;36m2012\u001b[0m  London  Wrestling  Wrestling Freestyle   \n",
       "\u001b[1;36m31162\u001b[0m  \u001b[1;36m2012\u001b[0m  London  Wrestling  Wrestling Freestyle   \n",
       "\u001b[1;36m31163\u001b[0m  \u001b[1;36m2012\u001b[0m  London  Wrestling  Wrestling Freestyle   \n",
       "\u001b[1;36m31164\u001b[0m  \u001b[1;36m2012\u001b[0m  London  Wrestling  Wrestling Freestyle   \n",
       "\n",
       "                         Athlete Country Gender     Event   Medal  \n",
       "\u001b[1;36m31160\u001b[0m         JANIKOWSKI, Damian     POL    Men  Wg \u001b[1;36m84\u001b[0m KG  Bronze  \n",
       "\u001b[1;36m31161\u001b[0m  REZAEI, Ghasem Gholamreza     IRI    Men  Wg \u001b[1;36m96\u001b[0m KG    Gold  \n",
       "\u001b[1;36m31162\u001b[0m             TOTROV, Rustam     RUS    Men  Wg \u001b[1;36m96\u001b[0m KG  Silver  \n",
       "\u001b[1;36m31163\u001b[0m          ALEKSANYAN, Artur     ARM    Men  Wg \u001b[1;36m96\u001b[0m KG  Bronze  \n",
       "\u001b[1;36m31164\u001b[0m             LIDBERG, Jimmy     SWE    Men  Wg \u001b[1;36m96\u001b[0m KG  Bronze  "
      ]
     },
     "execution_count": 11,
     "metadata": {},
     "output_type": "execute_result"
    }
   ],
   "source": [
    "df_summer.tail()"
   ]
  },
  {
   "cell_type": "code",
   "execution_count": 12,
   "id": "4c635222-747d-4b4a-9510-dcfd5b5c035d",
   "metadata": {},
   "outputs": [
    {
     "data": {
      "text/html": [
       "<pre style=\"white-space:pre;overflow-x:auto;line-height:normal;font-family:Menlo,'DejaVu Sans Mono',consolas,'Courier New',monospace\"></pre>\n"
      ],
      "text/plain": []
     },
     "metadata": {},
     "output_type": "display_data"
    },
    {
     "data": {
      "text/html": [
       "<div>\n",
       "<style scoped>\n",
       "    .dataframe tbody tr th:only-of-type {\n",
       "        vertical-align: middle;\n",
       "    }\n",
       "\n",
       "    .dataframe tbody tr th {\n",
       "        vertical-align: top;\n",
       "    }\n",
       "\n",
       "    .dataframe thead th {\n",
       "        text-align: right;\n",
       "    }\n",
       "</style>\n",
       "<table border=\"1\" class=\"dataframe\">\n",
       "  <thead>\n",
       "    <tr style=\"text-align: right;\">\n",
       "      <th></th>\n",
       "      <th>Year</th>\n",
       "    </tr>\n",
       "  </thead>\n",
       "  <tbody>\n",
       "    <tr>\n",
       "      <th>count</th>\n",
       "      <td>31165.000000</td>\n",
       "    </tr>\n",
       "    <tr>\n",
       "      <th>mean</th>\n",
       "      <td>1970.482785</td>\n",
       "    </tr>\n",
       "    <tr>\n",
       "      <th>std</th>\n",
       "      <td>33.158416</td>\n",
       "    </tr>\n",
       "    <tr>\n",
       "      <th>min</th>\n",
       "      <td>1896.000000</td>\n",
       "    </tr>\n",
       "    <tr>\n",
       "      <th>25%</th>\n",
       "      <td>1948.000000</td>\n",
       "    </tr>\n",
       "    <tr>\n",
       "      <th>50%</th>\n",
       "      <td>1980.000000</td>\n",
       "    </tr>\n",
       "    <tr>\n",
       "      <th>75%</th>\n",
       "      <td>2000.000000</td>\n",
       "    </tr>\n",
       "    <tr>\n",
       "      <th>max</th>\n",
       "      <td>2012.000000</td>\n",
       "    </tr>\n",
       "  </tbody>\n",
       "</table>\n",
       "</div>"
      ],
      "text/plain": [
       "\n",
       "               Year\n",
       "count  \u001b[1;36m31165.000000\u001b[0m\n",
       "mean    \u001b[1;36m1970.482785\u001b[0m\n",
       "std       \u001b[1;36m33.158416\u001b[0m\n",
       "min     \u001b[1;36m1896.000000\u001b[0m\n",
       "\u001b[1;36m25\u001b[0m%     \u001b[1;36m1948.000000\u001b[0m\n",
       "\u001b[1;36m50\u001b[0m%     \u001b[1;36m1980.000000\u001b[0m\n",
       "\u001b[1;36m75\u001b[0m%     \u001b[1;36m2000.000000\u001b[0m\n",
       "max     \u001b[1;36m2012.000000\u001b[0m"
      ]
     },
     "execution_count": 12,
     "metadata": {},
     "output_type": "execute_result"
    }
   ],
   "source": [
    "df_summer.describe()"
   ]
  },
  {
   "cell_type": "code",
   "execution_count": 14,
   "id": "d3807b12-ccd3-4b9f-9f16-7928514f1241",
   "metadata": {},
   "outputs": [
    {
     "data": {
      "text/html": [
       "<pre style=\"white-space:pre;overflow-x:auto;line-height:normal;font-family:Menlo,'DejaVu Sans Mono',consolas,'Courier New',monospace\"></pre>\n"
      ],
      "text/plain": []
     },
     "metadata": {},
     "output_type": "display_data"
    },
    {
     "data": {
      "text/plain": [
       "\n",
       "\u001b[1;36m0\u001b[0m          Gold\n",
       "\u001b[1;36m1\u001b[0m        Silver\n",
       "\u001b[1;36m2\u001b[0m        Bronze\n",
       "\u001b[1;36m3\u001b[0m          Gold\n",
       "\u001b[1;36m4\u001b[0m        Silver\n",
       "          \u001b[33m...\u001b[0m  \n",
       "\u001b[1;36m31160\u001b[0m    Bronze\n",
       "\u001b[1;36m31161\u001b[0m      Gold\n",
       "\u001b[1;36m31162\u001b[0m    Silver\n",
       "\u001b[1;36m31163\u001b[0m    Bronze\n",
       "\u001b[1;36m31164\u001b[0m    Bronze\n",
       "Name: Medal, Length: \u001b[1;36m31165\u001b[0m, dtype: object"
      ]
     },
     "execution_count": 14,
     "metadata": {},
     "output_type": "execute_result"
    }
   ],
   "source": [
    "df_summer['Medal']"
   ]
  },
  {
   "cell_type": "code",
   "execution_count": 15,
   "id": "f63d0c54-7fc9-443a-9853-4ce60cfe7c92",
   "metadata": {},
   "outputs": [
    {
     "data": {
      "text/html": [
       "<pre style=\"white-space:pre;overflow-x:auto;line-height:normal;font-family:Menlo,'DejaVu Sans Mono',consolas,'Courier New',monospace\"></pre>\n"
      ],
      "text/plain": []
     },
     "metadata": {},
     "output_type": "display_data"
    },
    {
     "data": {
      "text/plain": [
       "\n",
       "count     \u001b[1;36m31165\u001b[0m\n",
       "unique        \u001b[1;36m3\u001b[0m\n",
       "top        Gold\n",
       "freq      \u001b[1;36m10486\u001b[0m\n",
       "Name: Medal, dtype: object"
      ]
     },
     "execution_count": 15,
     "metadata": {},
     "output_type": "execute_result"
    }
   ],
   "source": [
    "df_summer['Medal'].describe()"
   ]
  },
  {
   "cell_type": "code",
   "execution_count": 16,
   "id": "3f91b671-9316-4310-b3b4-c7c23755d5f8",
   "metadata": {},
   "outputs": [
    {
     "data": {
      "text/html": [
       "<pre style=\"white-space:pre;overflow-x:auto;line-height:normal;font-family:Menlo,'DejaVu Sans Mono',consolas,'Courier New',monospace\"></pre>\n"
      ],
      "text/plain": []
     },
     "metadata": {},
     "output_type": "display_data"
    },
    {
     "data": {
      "text/html": [
       "<div>\n",
       "<style scoped>\n",
       "    .dataframe tbody tr th:only-of-type {\n",
       "        vertical-align: middle;\n",
       "    }\n",
       "\n",
       "    .dataframe tbody tr th {\n",
       "        vertical-align: top;\n",
       "    }\n",
       "\n",
       "    .dataframe thead th {\n",
       "        text-align: right;\n",
       "    }\n",
       "</style>\n",
       "<table border=\"1\" class=\"dataframe\">\n",
       "  <thead>\n",
       "    <tr style=\"text-align: right;\">\n",
       "      <th></th>\n",
       "      <th>City</th>\n",
       "      <th>Sport</th>\n",
       "      <th>Discipline</th>\n",
       "      <th>Athlete</th>\n",
       "      <th>Country</th>\n",
       "      <th>Gender</th>\n",
       "      <th>Event</th>\n",
       "      <th>Medal</th>\n",
       "    </tr>\n",
       "  </thead>\n",
       "  <tbody>\n",
       "    <tr>\n",
       "      <th>count</th>\n",
       "      <td>31165</td>\n",
       "      <td>31165</td>\n",
       "      <td>31165</td>\n",
       "      <td>31165</td>\n",
       "      <td>31161</td>\n",
       "      <td>31165</td>\n",
       "      <td>31165</td>\n",
       "      <td>31165</td>\n",
       "    </tr>\n",
       "    <tr>\n",
       "      <th>unique</th>\n",
       "      <td>22</td>\n",
       "      <td>43</td>\n",
       "      <td>67</td>\n",
       "      <td>22762</td>\n",
       "      <td>147</td>\n",
       "      <td>2</td>\n",
       "      <td>666</td>\n",
       "      <td>3</td>\n",
       "    </tr>\n",
       "    <tr>\n",
       "      <th>top</th>\n",
       "      <td>London</td>\n",
       "      <td>Aquatics</td>\n",
       "      <td>Athletics</td>\n",
       "      <td>PHELPS, Michael</td>\n",
       "      <td>USA</td>\n",
       "      <td>Men</td>\n",
       "      <td>Football</td>\n",
       "      <td>Gold</td>\n",
       "    </tr>\n",
       "    <tr>\n",
       "      <th>freq</th>\n",
       "      <td>3567</td>\n",
       "      <td>4170</td>\n",
       "      <td>3638</td>\n",
       "      <td>22</td>\n",
       "      <td>4585</td>\n",
       "      <td>22746</td>\n",
       "      <td>1497</td>\n",
       "      <td>10486</td>\n",
       "    </tr>\n",
       "  </tbody>\n",
       "</table>\n",
       "</div>"
      ],
      "text/plain": [
       "\n",
       "          City     Sport Discipline          Athlete Country Gender     Event  \\\n",
       "count    \u001b[1;36m31165\u001b[0m     \u001b[1;36m31165\u001b[0m      \u001b[1;36m31165\u001b[0m            \u001b[1;36m31165\u001b[0m   \u001b[1;36m31161\u001b[0m  \u001b[1;36m31165\u001b[0m     \u001b[1;36m31165\u001b[0m   \n",
       "unique      \u001b[1;36m22\u001b[0m        \u001b[1;36m43\u001b[0m         \u001b[1;36m67\u001b[0m            \u001b[1;36m22762\u001b[0m     \u001b[1;36m147\u001b[0m      \u001b[1;36m2\u001b[0m       \u001b[1;36m666\u001b[0m   \n",
       "top     London  Aquatics  Athletics  PHELPS, Michael     USA    Men  Football   \n",
       "freq      \u001b[1;36m3567\u001b[0m      \u001b[1;36m4170\u001b[0m       \u001b[1;36m3638\u001b[0m               \u001b[1;36m22\u001b[0m    \u001b[1;36m4585\u001b[0m  \u001b[1;36m22746\u001b[0m      \u001b[1;36m1497\u001b[0m   \n",
       "\n",
       "        Medal  \n",
       "count   \u001b[1;36m31165\u001b[0m  \n",
       "unique      \u001b[1;36m3\u001b[0m  \n",
       "top      Gold  \n",
       "freq    \u001b[1;36m10486\u001b[0m  "
      ]
     },
     "execution_count": 16,
     "metadata": {},
     "output_type": "execute_result"
    }
   ],
   "source": [
    "df_summer.describe(include=object)"
   ]
  },
  {
   "cell_type": "code",
   "execution_count": 18,
   "id": "12742a73-e643-419b-9d3f-532ccbdc5c26",
   "metadata": {},
   "outputs": [
    {
     "data": {
      "text/html": [
       "<pre style=\"white-space:pre;overflow-x:auto;line-height:normal;font-family:Menlo,'DejaVu Sans Mono',consolas,'Courier New',monospace\"></pre>\n"
      ],
      "text/plain": []
     },
     "metadata": {},
     "output_type": "display_data"
    },
    {
     "data": {
      "text/plain": [
       "\n",
       "Year           int64\n",
       "City          object\n",
       "Sport         object\n",
       "Discipline    object\n",
       "Athlete       object\n",
       "Country       object\n",
       "Gender        object\n",
       "Event         object\n",
       "Medal         object\n",
       "dtype: object"
      ]
     },
     "execution_count": 18,
     "metadata": {},
     "output_type": "execute_result"
    }
   ],
   "source": [
    "df_summer.dtypes"
   ]
  },
  {
   "cell_type": "code",
   "execution_count": 20,
   "id": "ecc7ae44-3604-493c-a1c3-9f61f6d55e38",
   "metadata": {},
   "outputs": [
    {
     "data": {
      "text/html": [
       "<pre style=\"white-space:pre;overflow-x:auto;line-height:normal;font-family:Menlo,'DejaVu Sans Mono',consolas,'Courier New',monospace\"></pre>\n"
      ],
      "text/plain": []
     },
     "metadata": {},
     "output_type": "display_data"
    },
    {
     "data": {
      "text/plain": [
       "\n",
       "Year          \u001b[1;36m0\u001b[0m\n",
       "City          \u001b[1;36m0\u001b[0m\n",
       "Sport         \u001b[1;36m0\u001b[0m\n",
       "Discipline    \u001b[1;36m0\u001b[0m\n",
       "Athlete       \u001b[1;36m0\u001b[0m\n",
       "Country       \u001b[1;36m4\u001b[0m\n",
       "Gender        \u001b[1;36m0\u001b[0m\n",
       "Event         \u001b[1;36m0\u001b[0m\n",
       "Medal         \u001b[1;36m0\u001b[0m\n",
       "dtype: int64"
      ]
     },
     "execution_count": 20,
     "metadata": {},
     "output_type": "execute_result"
    }
   ],
   "source": [
    "df_summer.isnull().sum()"
   ]
  },
  {
   "cell_type": "code",
   "execution_count": 21,
   "id": "e134c8b7-620a-4397-b463-b0c66bc1e09f",
   "metadata": {},
   "outputs": [
    {
     "data": {
      "text/html": [
       "<pre style=\"white-space:pre;overflow-x:auto;line-height:normal;font-family:Menlo,'DejaVu Sans Mono',consolas,'Courier New',monospace\"><span style=\"color: #7fbfbf; text-decoration-color: #7fbfbf\">[09/15/25 22:51:24] </span><span style=\"color: #000080; text-decoration-color: #000080\">INFO    </span> Loading data from <span style=\"color: #ff8700; text-decoration-color: #ff8700\">winter_raw</span> <span style=\"font-weight: bold\">(</span>ParquetDataset<span style=\"font-weight: bold\">)</span><span style=\"color: #808000; text-decoration-color: #808000\">...</span>                  <span style=\"color: #7f7f7f; text-decoration-color: #7f7f7f\">data_catalog.py:1046</span>\n",
       "</pre>\n"
      ],
      "text/plain": [
       "\u001b[2;36m[09/15/25 22:51:24]\u001b[0m\u001b[2;36m \u001b[0m\u001b[34mINFO    \u001b[0m Loading data from \u001b[38;5;208mwinter_raw\u001b[0m \u001b[1m(\u001b[0mParquetDataset\u001b[1m)\u001b[0m\u001b[33m...\u001b[0m                  \u001b[2mdata_catalog.py\u001b[0m\u001b[2m:\u001b[0m\u001b[2m1046\u001b[0m\n"
      ]
     },
     "metadata": {},
     "output_type": "display_data"
    },
    {
     "data": {
      "text/html": [
       "<pre style=\"white-space:pre;overflow-x:auto;line-height:normal;font-family:Menlo,'DejaVu Sans Mono',consolas,'Courier New',monospace\"></pre>\n"
      ],
      "text/plain": []
     },
     "metadata": {},
     "output_type": "display_data"
    },
    {
     "data": {
      "text/html": [
       "<div>\n",
       "<style scoped>\n",
       "    .dataframe tbody tr th:only-of-type {\n",
       "        vertical-align: middle;\n",
       "    }\n",
       "\n",
       "    .dataframe tbody tr th {\n",
       "        vertical-align: top;\n",
       "    }\n",
       "\n",
       "    .dataframe thead th {\n",
       "        text-align: right;\n",
       "    }\n",
       "</style>\n",
       "<table border=\"1\" class=\"dataframe\">\n",
       "  <thead>\n",
       "    <tr style=\"text-align: right;\">\n",
       "      <th></th>\n",
       "      <th>Year</th>\n",
       "      <th>City</th>\n",
       "      <th>Sport</th>\n",
       "      <th>Discipline</th>\n",
       "      <th>Athlete</th>\n",
       "      <th>Country</th>\n",
       "      <th>Gender</th>\n",
       "      <th>Event</th>\n",
       "      <th>Medal</th>\n",
       "    </tr>\n",
       "  </thead>\n",
       "  <tbody>\n",
       "    <tr>\n",
       "      <th>0</th>\n",
       "      <td>1924</td>\n",
       "      <td>Chamonix</td>\n",
       "      <td>Biathlon</td>\n",
       "      <td>Biathlon</td>\n",
       "      <td>BERTHET, G.</td>\n",
       "      <td>FRA</td>\n",
       "      <td>Men</td>\n",
       "      <td>Military Patrol</td>\n",
       "      <td>Bronze</td>\n",
       "    </tr>\n",
       "    <tr>\n",
       "      <th>1</th>\n",
       "      <td>1924</td>\n",
       "      <td>Chamonix</td>\n",
       "      <td>Biathlon</td>\n",
       "      <td>Biathlon</td>\n",
       "      <td>MANDRILLON, C.</td>\n",
       "      <td>FRA</td>\n",
       "      <td>Men</td>\n",
       "      <td>Military Patrol</td>\n",
       "      <td>Bronze</td>\n",
       "    </tr>\n",
       "    <tr>\n",
       "      <th>2</th>\n",
       "      <td>1924</td>\n",
       "      <td>Chamonix</td>\n",
       "      <td>Biathlon</td>\n",
       "      <td>Biathlon</td>\n",
       "      <td>MANDRILLON, Maurice</td>\n",
       "      <td>FRA</td>\n",
       "      <td>Men</td>\n",
       "      <td>Military Patrol</td>\n",
       "      <td>Bronze</td>\n",
       "    </tr>\n",
       "    <tr>\n",
       "      <th>3</th>\n",
       "      <td>1924</td>\n",
       "      <td>Chamonix</td>\n",
       "      <td>Biathlon</td>\n",
       "      <td>Biathlon</td>\n",
       "      <td>VANDELLE, André</td>\n",
       "      <td>FRA</td>\n",
       "      <td>Men</td>\n",
       "      <td>Military Patrol</td>\n",
       "      <td>Bronze</td>\n",
       "    </tr>\n",
       "    <tr>\n",
       "      <th>4</th>\n",
       "      <td>1924</td>\n",
       "      <td>Chamonix</td>\n",
       "      <td>Biathlon</td>\n",
       "      <td>Biathlon</td>\n",
       "      <td>AUFDENBLATTEN, Adolf</td>\n",
       "      <td>SUI</td>\n",
       "      <td>Men</td>\n",
       "      <td>Military Patrol</td>\n",
       "      <td>Gold</td>\n",
       "    </tr>\n",
       "    <tr>\n",
       "      <th>...</th>\n",
       "      <td>...</td>\n",
       "      <td>...</td>\n",
       "      <td>...</td>\n",
       "      <td>...</td>\n",
       "      <td>...</td>\n",
       "      <td>...</td>\n",
       "      <td>...</td>\n",
       "      <td>...</td>\n",
       "      <td>...</td>\n",
       "    </tr>\n",
       "    <tr>\n",
       "      <th>5765</th>\n",
       "      <td>2014</td>\n",
       "      <td>Sochi</td>\n",
       "      <td>Skiing</td>\n",
       "      <td>Snowboard</td>\n",
       "      <td>JONES, Jenny</td>\n",
       "      <td>GBR</td>\n",
       "      <td>Women</td>\n",
       "      <td>Slopestyle</td>\n",
       "      <td>Bronze</td>\n",
       "    </tr>\n",
       "    <tr>\n",
       "      <th>5766</th>\n",
       "      <td>2014</td>\n",
       "      <td>Sochi</td>\n",
       "      <td>Skiing</td>\n",
       "      <td>Snowboard</td>\n",
       "      <td>ANDERSON, Jamie</td>\n",
       "      <td>USA</td>\n",
       "      <td>Women</td>\n",
       "      <td>Slopestyle</td>\n",
       "      <td>Gold</td>\n",
       "    </tr>\n",
       "    <tr>\n",
       "      <th>5767</th>\n",
       "      <td>2014</td>\n",
       "      <td>Sochi</td>\n",
       "      <td>Skiing</td>\n",
       "      <td>Snowboard</td>\n",
       "      <td>MALTAIS, Dominique</td>\n",
       "      <td>CAN</td>\n",
       "      <td>Women</td>\n",
       "      <td>Snowboard Cross</td>\n",
       "      <td>Silver</td>\n",
       "    </tr>\n",
       "    <tr>\n",
       "      <th>5768</th>\n",
       "      <td>2014</td>\n",
       "      <td>Sochi</td>\n",
       "      <td>Skiing</td>\n",
       "      <td>Snowboard</td>\n",
       "      <td>SAMKOVA, Eva</td>\n",
       "      <td>CZE</td>\n",
       "      <td>Women</td>\n",
       "      <td>Snowboard Cross</td>\n",
       "      <td>Gold</td>\n",
       "    </tr>\n",
       "    <tr>\n",
       "      <th>5769</th>\n",
       "      <td>2014</td>\n",
       "      <td>Sochi</td>\n",
       "      <td>Skiing</td>\n",
       "      <td>Snowboard</td>\n",
       "      <td>TRESPEUCH, Chloe</td>\n",
       "      <td>FRA</td>\n",
       "      <td>Women</td>\n",
       "      <td>Snowboard Cross</td>\n",
       "      <td>Bronze</td>\n",
       "    </tr>\n",
       "  </tbody>\n",
       "</table>\n",
       "<p>5770 rows × 9 columns</p>\n",
       "</div>"
      ],
      "text/plain": [
       "\n",
       "      Year      City     Sport Discipline               Athlete Country  \\\n",
       "\u001b[1;36m0\u001b[0m     \u001b[1;36m1924\u001b[0m  Chamonix  Biathlon   Biathlon           BERTHET, G.     FRA   \n",
       "\u001b[1;36m1\u001b[0m     \u001b[1;36m1924\u001b[0m  Chamonix  Biathlon   Biathlon        MANDRILLON, C.     FRA   \n",
       "\u001b[1;36m2\u001b[0m     \u001b[1;36m1924\u001b[0m  Chamonix  Biathlon   Biathlon   MANDRILLON, Maurice     FRA   \n",
       "\u001b[1;36m3\u001b[0m     \u001b[1;36m1924\u001b[0m  Chamonix  Biathlon   Biathlon       VANDELLE, André     FRA   \n",
       "\u001b[1;36m4\u001b[0m     \u001b[1;36m1924\u001b[0m  Chamonix  Biathlon   Biathlon  AUFDENBLATTEN, Adolf     SUI   \n",
       "\u001b[33m...\u001b[0m    \u001b[33m...\u001b[0m       \u001b[33m...\u001b[0m       \u001b[33m...\u001b[0m        \u001b[33m...\u001b[0m                   \u001b[33m...\u001b[0m     \u001b[33m...\u001b[0m   \n",
       "\u001b[1;36m5765\u001b[0m  \u001b[1;36m2014\u001b[0m     Sochi    Skiing  Snowboard          JONES, Jenny     GBR   \n",
       "\u001b[1;36m5766\u001b[0m  \u001b[1;36m2014\u001b[0m     Sochi    Skiing  Snowboard       ANDERSON, Jamie     USA   \n",
       "\u001b[1;36m5767\u001b[0m  \u001b[1;36m2014\u001b[0m     Sochi    Skiing  Snowboard    MALTAIS, Dominique     CAN   \n",
       "\u001b[1;36m5768\u001b[0m  \u001b[1;36m2014\u001b[0m     Sochi    Skiing  Snowboard          SAMKOVA, Eva     CZE   \n",
       "\u001b[1;36m5769\u001b[0m  \u001b[1;36m2014\u001b[0m     Sochi    Skiing  Snowboard      TRESPEUCH, Chloe     FRA   \n",
       "\n",
       "     Gender            Event   Medal  \n",
       "\u001b[1;36m0\u001b[0m       Men  Military Patrol  Bronze  \n",
       "\u001b[1;36m1\u001b[0m       Men  Military Patrol  Bronze  \n",
       "\u001b[1;36m2\u001b[0m       Men  Military Patrol  Bronze  \n",
       "\u001b[1;36m3\u001b[0m       Men  Military Patrol  Bronze  \n",
       "\u001b[1;36m4\u001b[0m       Men  Military Patrol    Gold  \n",
       "\u001b[33m...\u001b[0m     \u001b[33m...\u001b[0m              \u001b[33m...\u001b[0m     \u001b[33m...\u001b[0m  \n",
       "\u001b[1;36m5765\u001b[0m  Women       Slopestyle  Bronze  \n",
       "\u001b[1;36m5766\u001b[0m  Women       Slopestyle    Gold  \n",
       "\u001b[1;36m5767\u001b[0m  Women  Snowboard Cross  Silver  \n",
       "\u001b[1;36m5768\u001b[0m  Women  Snowboard Cross    Gold  \n",
       "\u001b[1;36m5769\u001b[0m  Women  Snowboard Cross  Bronze  \n",
       "\n",
       "\u001b[1m[\u001b[0m\u001b[1;36m5770\u001b[0m rows x \u001b[1;36m9\u001b[0m columns\u001b[1m]\u001b[0m"
      ]
     },
     "execution_count": 21,
     "metadata": {},
     "output_type": "execute_result"
    }
   ],
   "source": [
    "catalog.load('winter_raw')"
   ]
  },
  {
   "cell_type": "code",
   "execution_count": 22,
   "id": "3588c84d-805f-4473-b833-96adb03b8ca5",
   "metadata": {},
   "outputs": [
    {
     "data": {
      "text/html": [
       "<pre style=\"white-space:pre;overflow-x:auto;line-height:normal;font-family:Menlo,'DejaVu Sans Mono',consolas,'Courier New',monospace\"><span style=\"color: #7fbfbf; text-decoration-color: #7fbfbf\">[09/15/25 23:10:19] </span><span style=\"color: #000080; text-decoration-color: #000080\">INFO    </span> Loading data from <span style=\"color: #ff8700; text-decoration-color: #ff8700\">winter_raw</span> <span style=\"font-weight: bold\">(</span>ParquetDataset<span style=\"font-weight: bold\">)</span><span style=\"color: #808000; text-decoration-color: #808000\">...</span>                  <span style=\"color: #7f7f7f; text-decoration-color: #7f7f7f\">data_catalog.py:1046</span>\n",
       "</pre>\n"
      ],
      "text/plain": [
       "\u001b[2;36m[09/15/25 23:10:19]\u001b[0m\u001b[2;36m \u001b[0m\u001b[34mINFO    \u001b[0m Loading data from \u001b[38;5;208mwinter_raw\u001b[0m \u001b[1m(\u001b[0mParquetDataset\u001b[1m)\u001b[0m\u001b[33m...\u001b[0m                  \u001b[2mdata_catalog.py\u001b[0m\u001b[2m:\u001b[0m\u001b[2m1046\u001b[0m\n"
      ]
     },
     "metadata": {},
     "output_type": "display_data"
    }
   ],
   "source": [
    "df_winter = catalog.load('winter_raw')"
   ]
  },
  {
   "cell_type": "code",
   "execution_count": 23,
   "id": "af65eb17-763f-4538-840f-7fe52e875e32",
   "metadata": {},
   "outputs": [
    {
     "data": {
      "text/html": [
       "<pre style=\"white-space:pre;overflow-x:auto;line-height:normal;font-family:Menlo,'DejaVu Sans Mono',consolas,'Courier New',monospace\"></pre>\n"
      ],
      "text/plain": []
     },
     "metadata": {},
     "output_type": "display_data"
    },
    {
     "data": {
      "text/html": [
       "<div>\n",
       "<style scoped>\n",
       "    .dataframe tbody tr th:only-of-type {\n",
       "        vertical-align: middle;\n",
       "    }\n",
       "\n",
       "    .dataframe tbody tr th {\n",
       "        vertical-align: top;\n",
       "    }\n",
       "\n",
       "    .dataframe thead th {\n",
       "        text-align: right;\n",
       "    }\n",
       "</style>\n",
       "<table border=\"1\" class=\"dataframe\">\n",
       "  <thead>\n",
       "    <tr style=\"text-align: right;\">\n",
       "      <th></th>\n",
       "      <th>Year</th>\n",
       "      <th>City</th>\n",
       "      <th>Sport</th>\n",
       "      <th>Discipline</th>\n",
       "      <th>Athlete</th>\n",
       "      <th>Country</th>\n",
       "      <th>Gender</th>\n",
       "      <th>Event</th>\n",
       "      <th>Medal</th>\n",
       "    </tr>\n",
       "  </thead>\n",
       "  <tbody>\n",
       "    <tr>\n",
       "      <th>0</th>\n",
       "      <td>1924</td>\n",
       "      <td>Chamonix</td>\n",
       "      <td>Biathlon</td>\n",
       "      <td>Biathlon</td>\n",
       "      <td>BERTHET, G.</td>\n",
       "      <td>FRA</td>\n",
       "      <td>Men</td>\n",
       "      <td>Military Patrol</td>\n",
       "      <td>Bronze</td>\n",
       "    </tr>\n",
       "    <tr>\n",
       "      <th>1</th>\n",
       "      <td>1924</td>\n",
       "      <td>Chamonix</td>\n",
       "      <td>Biathlon</td>\n",
       "      <td>Biathlon</td>\n",
       "      <td>MANDRILLON, C.</td>\n",
       "      <td>FRA</td>\n",
       "      <td>Men</td>\n",
       "      <td>Military Patrol</td>\n",
       "      <td>Bronze</td>\n",
       "    </tr>\n",
       "    <tr>\n",
       "      <th>2</th>\n",
       "      <td>1924</td>\n",
       "      <td>Chamonix</td>\n",
       "      <td>Biathlon</td>\n",
       "      <td>Biathlon</td>\n",
       "      <td>MANDRILLON, Maurice</td>\n",
       "      <td>FRA</td>\n",
       "      <td>Men</td>\n",
       "      <td>Military Patrol</td>\n",
       "      <td>Bronze</td>\n",
       "    </tr>\n",
       "    <tr>\n",
       "      <th>3</th>\n",
       "      <td>1924</td>\n",
       "      <td>Chamonix</td>\n",
       "      <td>Biathlon</td>\n",
       "      <td>Biathlon</td>\n",
       "      <td>VANDELLE, André</td>\n",
       "      <td>FRA</td>\n",
       "      <td>Men</td>\n",
       "      <td>Military Patrol</td>\n",
       "      <td>Bronze</td>\n",
       "    </tr>\n",
       "    <tr>\n",
       "      <th>4</th>\n",
       "      <td>1924</td>\n",
       "      <td>Chamonix</td>\n",
       "      <td>Biathlon</td>\n",
       "      <td>Biathlon</td>\n",
       "      <td>AUFDENBLATTEN, Adolf</td>\n",
       "      <td>SUI</td>\n",
       "      <td>Men</td>\n",
       "      <td>Military Patrol</td>\n",
       "      <td>Gold</td>\n",
       "    </tr>\n",
       "  </tbody>\n",
       "</table>\n",
       "</div>"
      ],
      "text/plain": [
       "\n",
       "   Year      City     Sport Discipline               Athlete Country Gender  \\\n",
       "\u001b[1;36m0\u001b[0m  \u001b[1;36m1924\u001b[0m  Chamonix  Biathlon   Biathlon           BERTHET, G.     FRA    Men   \n",
       "\u001b[1;36m1\u001b[0m  \u001b[1;36m1924\u001b[0m  Chamonix  Biathlon   Biathlon        MANDRILLON, C.     FRA    Men   \n",
       "\u001b[1;36m2\u001b[0m  \u001b[1;36m1924\u001b[0m  Chamonix  Biathlon   Biathlon   MANDRILLON, Maurice     FRA    Men   \n",
       "\u001b[1;36m3\u001b[0m  \u001b[1;36m1924\u001b[0m  Chamonix  Biathlon   Biathlon       VANDELLE, André     FRA    Men   \n",
       "\u001b[1;36m4\u001b[0m  \u001b[1;36m1924\u001b[0m  Chamonix  Biathlon   Biathlon  AUFDENBLATTEN, Adolf     SUI    Men   \n",
       "\n",
       "             Event   Medal  \n",
       "\u001b[1;36m0\u001b[0m  Military Patrol  Bronze  \n",
       "\u001b[1;36m1\u001b[0m  Military Patrol  Bronze  \n",
       "\u001b[1;36m2\u001b[0m  Military Patrol  Bronze  \n",
       "\u001b[1;36m3\u001b[0m  Military Patrol  Bronze  \n",
       "\u001b[1;36m4\u001b[0m  Military Patrol    Gold  "
      ]
     },
     "execution_count": 23,
     "metadata": {},
     "output_type": "execute_result"
    }
   ],
   "source": [
    "df_winter.head()"
   ]
  },
  {
   "cell_type": "code",
   "execution_count": 24,
   "id": "342a8e32-2f5c-4fe9-a881-96a97e733d13",
   "metadata": {},
   "outputs": [
    {
     "data": {
      "text/html": [
       "<pre style=\"white-space:pre;overflow-x:auto;line-height:normal;font-family:Menlo,'DejaVu Sans Mono',consolas,'Courier New',monospace\"></pre>\n"
      ],
      "text/plain": []
     },
     "metadata": {},
     "output_type": "display_data"
    },
    {
     "data": {
      "text/html": [
       "<div>\n",
       "<style scoped>\n",
       "    .dataframe tbody tr th:only-of-type {\n",
       "        vertical-align: middle;\n",
       "    }\n",
       "\n",
       "    .dataframe tbody tr th {\n",
       "        vertical-align: top;\n",
       "    }\n",
       "\n",
       "    .dataframe thead th {\n",
       "        text-align: right;\n",
       "    }\n",
       "</style>\n",
       "<table border=\"1\" class=\"dataframe\">\n",
       "  <thead>\n",
       "    <tr style=\"text-align: right;\">\n",
       "      <th></th>\n",
       "      <th>Year</th>\n",
       "      <th>City</th>\n",
       "      <th>Sport</th>\n",
       "      <th>Discipline</th>\n",
       "      <th>Athlete</th>\n",
       "      <th>Country</th>\n",
       "      <th>Gender</th>\n",
       "      <th>Event</th>\n",
       "      <th>Medal</th>\n",
       "    </tr>\n",
       "  </thead>\n",
       "  <tbody>\n",
       "    <tr>\n",
       "      <th>5765</th>\n",
       "      <td>2014</td>\n",
       "      <td>Sochi</td>\n",
       "      <td>Skiing</td>\n",
       "      <td>Snowboard</td>\n",
       "      <td>JONES, Jenny</td>\n",
       "      <td>GBR</td>\n",
       "      <td>Women</td>\n",
       "      <td>Slopestyle</td>\n",
       "      <td>Bronze</td>\n",
       "    </tr>\n",
       "    <tr>\n",
       "      <th>5766</th>\n",
       "      <td>2014</td>\n",
       "      <td>Sochi</td>\n",
       "      <td>Skiing</td>\n",
       "      <td>Snowboard</td>\n",
       "      <td>ANDERSON, Jamie</td>\n",
       "      <td>USA</td>\n",
       "      <td>Women</td>\n",
       "      <td>Slopestyle</td>\n",
       "      <td>Gold</td>\n",
       "    </tr>\n",
       "    <tr>\n",
       "      <th>5767</th>\n",
       "      <td>2014</td>\n",
       "      <td>Sochi</td>\n",
       "      <td>Skiing</td>\n",
       "      <td>Snowboard</td>\n",
       "      <td>MALTAIS, Dominique</td>\n",
       "      <td>CAN</td>\n",
       "      <td>Women</td>\n",
       "      <td>Snowboard Cross</td>\n",
       "      <td>Silver</td>\n",
       "    </tr>\n",
       "    <tr>\n",
       "      <th>5768</th>\n",
       "      <td>2014</td>\n",
       "      <td>Sochi</td>\n",
       "      <td>Skiing</td>\n",
       "      <td>Snowboard</td>\n",
       "      <td>SAMKOVA, Eva</td>\n",
       "      <td>CZE</td>\n",
       "      <td>Women</td>\n",
       "      <td>Snowboard Cross</td>\n",
       "      <td>Gold</td>\n",
       "    </tr>\n",
       "    <tr>\n",
       "      <th>5769</th>\n",
       "      <td>2014</td>\n",
       "      <td>Sochi</td>\n",
       "      <td>Skiing</td>\n",
       "      <td>Snowboard</td>\n",
       "      <td>TRESPEUCH, Chloe</td>\n",
       "      <td>FRA</td>\n",
       "      <td>Women</td>\n",
       "      <td>Snowboard Cross</td>\n",
       "      <td>Bronze</td>\n",
       "    </tr>\n",
       "  </tbody>\n",
       "</table>\n",
       "</div>"
      ],
      "text/plain": [
       "\n",
       "      Year   City   Sport Discipline             Athlete Country Gender  \\\n",
       "\u001b[1;36m5765\u001b[0m  \u001b[1;36m2014\u001b[0m  Sochi  Skiing  Snowboard        JONES, Jenny     GBR  Women   \n",
       "\u001b[1;36m5766\u001b[0m  \u001b[1;36m2014\u001b[0m  Sochi  Skiing  Snowboard     ANDERSON, Jamie     USA  Women   \n",
       "\u001b[1;36m5767\u001b[0m  \u001b[1;36m2014\u001b[0m  Sochi  Skiing  Snowboard  MALTAIS, Dominique     CAN  Women   \n",
       "\u001b[1;36m5768\u001b[0m  \u001b[1;36m2014\u001b[0m  Sochi  Skiing  Snowboard        SAMKOVA, Eva     CZE  Women   \n",
       "\u001b[1;36m5769\u001b[0m  \u001b[1;36m2014\u001b[0m  Sochi  Skiing  Snowboard    TRESPEUCH, Chloe     FRA  Women   \n",
       "\n",
       "                Event   Medal  \n",
       "\u001b[1;36m5765\u001b[0m       Slopestyle  Bronze  \n",
       "\u001b[1;36m5766\u001b[0m       Slopestyle    Gold  \n",
       "\u001b[1;36m5767\u001b[0m  Snowboard Cross  Silver  \n",
       "\u001b[1;36m5768\u001b[0m  Snowboard Cross    Gold  \n",
       "\u001b[1;36m5769\u001b[0m  Snowboard Cross  Bronze  "
      ]
     },
     "execution_count": 24,
     "metadata": {},
     "output_type": "execute_result"
    }
   ],
   "source": [
    "df_winter.tail()"
   ]
  },
  {
   "cell_type": "code",
   "execution_count": 27,
   "id": "3fd04e6c-8e06-4c35-87d8-5694b0205dce",
   "metadata": {},
   "outputs": [
    {
     "data": {
      "text/html": [
       "<pre style=\"white-space:pre;overflow-x:auto;line-height:normal;font-family:Menlo,'DejaVu Sans Mono',consolas,'Courier New',monospace\"></pre>\n"
      ],
      "text/plain": []
     },
     "metadata": {},
     "output_type": "display_data"
    },
    {
     "data": {
      "text/html": [
       "<div>\n",
       "<style scoped>\n",
       "    .dataframe tbody tr th:only-of-type {\n",
       "        vertical-align: middle;\n",
       "    }\n",
       "\n",
       "    .dataframe tbody tr th {\n",
       "        vertical-align: top;\n",
       "    }\n",
       "\n",
       "    .dataframe thead th {\n",
       "        text-align: right;\n",
       "    }\n",
       "</style>\n",
       "<table border=\"1\" class=\"dataframe\">\n",
       "  <thead>\n",
       "    <tr style=\"text-align: right;\">\n",
       "      <th></th>\n",
       "      <th>Year</th>\n",
       "    </tr>\n",
       "  </thead>\n",
       "  <tbody>\n",
       "    <tr>\n",
       "      <th>count</th>\n",
       "      <td>5770.000000</td>\n",
       "    </tr>\n",
       "    <tr>\n",
       "      <th>mean</th>\n",
       "      <td>1986.350433</td>\n",
       "    </tr>\n",
       "    <tr>\n",
       "      <th>std</th>\n",
       "      <td>24.263673</td>\n",
       "    </tr>\n",
       "    <tr>\n",
       "      <th>min</th>\n",
       "      <td>1924.000000</td>\n",
       "    </tr>\n",
       "    <tr>\n",
       "      <th>25%</th>\n",
       "      <td>1972.000000</td>\n",
       "    </tr>\n",
       "    <tr>\n",
       "      <th>50%</th>\n",
       "      <td>1994.000000</td>\n",
       "    </tr>\n",
       "    <tr>\n",
       "      <th>75%</th>\n",
       "      <td>2006.000000</td>\n",
       "    </tr>\n",
       "    <tr>\n",
       "      <th>max</th>\n",
       "      <td>2014.000000</td>\n",
       "    </tr>\n",
       "  </tbody>\n",
       "</table>\n",
       "</div>"
      ],
      "text/plain": [
       "\n",
       "              Year\n",
       "count  \u001b[1;36m5770.000000\u001b[0m\n",
       "mean   \u001b[1;36m1986.350433\u001b[0m\n",
       "std      \u001b[1;36m24.263673\u001b[0m\n",
       "min    \u001b[1;36m1924.000000\u001b[0m\n",
       "\u001b[1;36m25\u001b[0m%    \u001b[1;36m1972.000000\u001b[0m\n",
       "\u001b[1;36m50\u001b[0m%    \u001b[1;36m1994.000000\u001b[0m\n",
       "\u001b[1;36m75\u001b[0m%    \u001b[1;36m2006.000000\u001b[0m\n",
       "max    \u001b[1;36m2014.000000\u001b[0m"
      ]
     },
     "execution_count": 27,
     "metadata": {},
     "output_type": "execute_result"
    }
   ],
   "source": [
    "df_winter.describe()"
   ]
  },
  {
   "cell_type": "code",
   "execution_count": 25,
   "id": "5bc303e6-b170-484d-8cbd-db60425f1c7f",
   "metadata": {},
   "outputs": [
    {
     "data": {
      "text/html": [
       "<pre style=\"white-space:pre;overflow-x:auto;line-height:normal;font-family:Menlo,'DejaVu Sans Mono',consolas,'Courier New',monospace\"></pre>\n"
      ],
      "text/plain": []
     },
     "metadata": {},
     "output_type": "display_data"
    },
    {
     "data": {
      "text/plain": [
       "\n",
       "Year          \u001b[1;36m0\u001b[0m\n",
       "City          \u001b[1;36m0\u001b[0m\n",
       "Sport         \u001b[1;36m0\u001b[0m\n",
       "Discipline    \u001b[1;36m0\u001b[0m\n",
       "Athlete       \u001b[1;36m0\u001b[0m\n",
       "Country       \u001b[1;36m0\u001b[0m\n",
       "Gender        \u001b[1;36m0\u001b[0m\n",
       "Event         \u001b[1;36m0\u001b[0m\n",
       "Medal         \u001b[1;36m0\u001b[0m\n",
       "dtype: int64"
      ]
     },
     "execution_count": 25,
     "metadata": {},
     "output_type": "execute_result"
    }
   ],
   "source": [
    "df_winter.isnull().sum()"
   ]
  },
  {
   "cell_type": "code",
   "execution_count": 31,
   "id": "1df695d7-29b5-4c69-bafa-54ca51ae2261",
   "metadata": {},
   "outputs": [
    {
     "data": {
      "text/html": [
       "<pre style=\"white-space:pre;overflow-x:auto;line-height:normal;font-family:Menlo,'DejaVu Sans Mono',consolas,'Courier New',monospace\"><span style=\"color: #7fbfbf; text-decoration-color: #7fbfbf\">[09/15/25 23:13:54] </span><span style=\"color: #000080; text-decoration-color: #000080\">INFO    </span> Loading data from <span style=\"color: #ff8700; text-decoration-color: #ff8700\">dictionary_raw</span> <span style=\"font-weight: bold\">(</span>ParquetDataset<span style=\"font-weight: bold\">)</span><span style=\"color: #808000; text-decoration-color: #808000\">...</span>              <span style=\"color: #7f7f7f; text-decoration-color: #7f7f7f\">data_catalog.py:1046</span>\n",
       "</pre>\n"
      ],
      "text/plain": [
       "\u001b[2;36m[09/15/25 23:13:54]\u001b[0m\u001b[2;36m \u001b[0m\u001b[34mINFO    \u001b[0m Loading data from \u001b[38;5;208mdictionary_raw\u001b[0m \u001b[1m(\u001b[0mParquetDataset\u001b[1m)\u001b[0m\u001b[33m...\u001b[0m              \u001b[2mdata_catalog.py\u001b[0m\u001b[2m:\u001b[0m\u001b[2m1046\u001b[0m\n"
      ]
     },
     "metadata": {},
     "output_type": "display_data"
    },
    {
     "data": {
      "text/html": [
       "<pre style=\"white-space:pre;overflow-x:auto;line-height:normal;font-family:Menlo,'DejaVu Sans Mono',consolas,'Courier New',monospace\"></pre>\n"
      ],
      "text/plain": []
     },
     "metadata": {},
     "output_type": "display_data"
    },
    {
     "data": {
      "text/html": [
       "<div>\n",
       "<style scoped>\n",
       "    .dataframe tbody tr th:only-of-type {\n",
       "        vertical-align: middle;\n",
       "    }\n",
       "\n",
       "    .dataframe tbody tr th {\n",
       "        vertical-align: top;\n",
       "    }\n",
       "\n",
       "    .dataframe thead th {\n",
       "        text-align: right;\n",
       "    }\n",
       "</style>\n",
       "<table border=\"1\" class=\"dataframe\">\n",
       "  <thead>\n",
       "    <tr style=\"text-align: right;\">\n",
       "      <th></th>\n",
       "      <th>Country</th>\n",
       "      <th>Code</th>\n",
       "      <th>Population</th>\n",
       "      <th>GDP per Capita</th>\n",
       "    </tr>\n",
       "  </thead>\n",
       "  <tbody>\n",
       "    <tr>\n",
       "      <th>0</th>\n",
       "      <td>Afghanistan</td>\n",
       "      <td>AFG</td>\n",
       "      <td>32526562.0</td>\n",
       "      <td>594.323081</td>\n",
       "    </tr>\n",
       "    <tr>\n",
       "      <th>1</th>\n",
       "      <td>Albania</td>\n",
       "      <td>ALB</td>\n",
       "      <td>2889167.0</td>\n",
       "      <td>3945.217582</td>\n",
       "    </tr>\n",
       "    <tr>\n",
       "      <th>2</th>\n",
       "      <td>Algeria</td>\n",
       "      <td>ALG</td>\n",
       "      <td>39666519.0</td>\n",
       "      <td>4206.031232</td>\n",
       "    </tr>\n",
       "    <tr>\n",
       "      <th>3</th>\n",
       "      <td>American Samoa*</td>\n",
       "      <td>ASA</td>\n",
       "      <td>55538.0</td>\n",
       "      <td>NaN</td>\n",
       "    </tr>\n",
       "    <tr>\n",
       "      <th>4</th>\n",
       "      <td>Andorra</td>\n",
       "      <td>AND</td>\n",
       "      <td>70473.0</td>\n",
       "      <td>NaN</td>\n",
       "    </tr>\n",
       "    <tr>\n",
       "      <th>...</th>\n",
       "      <td>...</td>\n",
       "      <td>...</td>\n",
       "      <td>...</td>\n",
       "      <td>...</td>\n",
       "    </tr>\n",
       "    <tr>\n",
       "      <th>196</th>\n",
       "      <td>Vietnam</td>\n",
       "      <td>VIE</td>\n",
       "      <td>91703800.0</td>\n",
       "      <td>2111.138024</td>\n",
       "    </tr>\n",
       "    <tr>\n",
       "      <th>197</th>\n",
       "      <td>Virgin Islands*</td>\n",
       "      <td>ISV</td>\n",
       "      <td>103574.0</td>\n",
       "      <td>NaN</td>\n",
       "    </tr>\n",
       "    <tr>\n",
       "      <th>198</th>\n",
       "      <td>Yemen</td>\n",
       "      <td>YEM</td>\n",
       "      <td>26832215.0</td>\n",
       "      <td>1406.291651</td>\n",
       "    </tr>\n",
       "    <tr>\n",
       "      <th>199</th>\n",
       "      <td>Zambia</td>\n",
       "      <td>ZAM</td>\n",
       "      <td>16211767.0</td>\n",
       "      <td>1304.879014</td>\n",
       "    </tr>\n",
       "    <tr>\n",
       "      <th>200</th>\n",
       "      <td>Zimbabwe</td>\n",
       "      <td>ZIM</td>\n",
       "      <td>15602751.0</td>\n",
       "      <td>924.143819</td>\n",
       "    </tr>\n",
       "  </tbody>\n",
       "</table>\n",
       "<p>201 rows × 4 columns</p>\n",
       "</div>"
      ],
      "text/plain": [
       "\n",
       "             Country Code  Population  GDP per Capita\n",
       "\u001b[1;36m0\u001b[0m        Afghanistan  AFG  \u001b[1;36m32526562.0\u001b[0m      \u001b[1;36m594.323081\u001b[0m\n",
       "\u001b[1;36m1\u001b[0m            Albania  ALB   \u001b[1;36m2889167.0\u001b[0m     \u001b[1;36m3945.217582\u001b[0m\n",
       "\u001b[1;36m2\u001b[0m            Algeria  ALG  \u001b[1;36m39666519.0\u001b[0m     \u001b[1;36m4206.031232\u001b[0m\n",
       "\u001b[1;36m3\u001b[0m    American Samoa*  ASA     \u001b[1;36m55538.0\u001b[0m             NaN\n",
       "\u001b[1;36m4\u001b[0m            Andorra  AND     \u001b[1;36m70473.0\u001b[0m             NaN\n",
       "..               \u001b[33m...\u001b[0m  \u001b[33m...\u001b[0m         \u001b[33m...\u001b[0m             \u001b[33m...\u001b[0m\n",
       "\u001b[1;36m196\u001b[0m          Vietnam  VIE  \u001b[1;36m91703800.0\u001b[0m     \u001b[1;36m2111.138024\u001b[0m\n",
       "\u001b[1;36m197\u001b[0m  Virgin Islands*  ISV    \u001b[1;36m103574.0\u001b[0m             NaN\n",
       "\u001b[1;36m198\u001b[0m            Yemen  YEM  \u001b[1;36m26832215.0\u001b[0m     \u001b[1;36m1406.291651\u001b[0m\n",
       "\u001b[1;36m199\u001b[0m           Zambia  ZAM  \u001b[1;36m16211767.0\u001b[0m     \u001b[1;36m1304.879014\u001b[0m\n",
       "\u001b[1;36m200\u001b[0m         Zimbabwe  ZIM  \u001b[1;36m15602751.0\u001b[0m      \u001b[1;36m924.143819\u001b[0m\n",
       "\n",
       "\u001b[1m[\u001b[0m\u001b[1;36m201\u001b[0m rows x \u001b[1;36m4\u001b[0m columns\u001b[1m]\u001b[0m"
      ]
     },
     "execution_count": 31,
     "metadata": {},
     "output_type": "execute_result"
    }
   ],
   "source": [
    "catalog.load('dictionary_raw')"
   ]
  },
  {
   "cell_type": "code",
   "execution_count": 32,
   "id": "ddef6647-022c-4892-90f8-ee88f4bc9c6b",
   "metadata": {},
   "outputs": [
    {
     "data": {
      "text/html": [
       "<pre style=\"white-space:pre;overflow-x:auto;line-height:normal;font-family:Menlo,'DejaVu Sans Mono',consolas,'Courier New',monospace\"><span style=\"color: #7fbfbf; text-decoration-color: #7fbfbf\">[09/15/25 23:14:21] </span><span style=\"color: #000080; text-decoration-color: #000080\">INFO    </span> Loading data from <span style=\"color: #ff8700; text-decoration-color: #ff8700\">dictionary_raw</span> <span style=\"font-weight: bold\">(</span>ParquetDataset<span style=\"font-weight: bold\">)</span><span style=\"color: #808000; text-decoration-color: #808000\">...</span>              <span style=\"color: #7f7f7f; text-decoration-color: #7f7f7f\">data_catalog.py:1046</span>\n",
       "</pre>\n"
      ],
      "text/plain": [
       "\u001b[2;36m[09/15/25 23:14:21]\u001b[0m\u001b[2;36m \u001b[0m\u001b[34mINFO    \u001b[0m Loading data from \u001b[38;5;208mdictionary_raw\u001b[0m \u001b[1m(\u001b[0mParquetDataset\u001b[1m)\u001b[0m\u001b[33m...\u001b[0m              \u001b[2mdata_catalog.py\u001b[0m\u001b[2m:\u001b[0m\u001b[2m1046\u001b[0m\n"
      ]
     },
     "metadata": {},
     "output_type": "display_data"
    }
   ],
   "source": [
    "df_dictionary = catalog.load('dictionary_raw')"
   ]
  },
  {
   "cell_type": "code",
   "execution_count": 33,
   "id": "92d20a1a-596e-4eae-b6bd-6068c41b88b4",
   "metadata": {},
   "outputs": [
    {
     "data": {
      "text/html": [
       "<pre style=\"white-space:pre;overflow-x:auto;line-height:normal;font-family:Menlo,'DejaVu Sans Mono',consolas,'Courier New',monospace\"></pre>\n"
      ],
      "text/plain": []
     },
     "metadata": {},
     "output_type": "display_data"
    },
    {
     "data": {
      "text/html": [
       "<div>\n",
       "<style scoped>\n",
       "    .dataframe tbody tr th:only-of-type {\n",
       "        vertical-align: middle;\n",
       "    }\n",
       "\n",
       "    .dataframe tbody tr th {\n",
       "        vertical-align: top;\n",
       "    }\n",
       "\n",
       "    .dataframe thead th {\n",
       "        text-align: right;\n",
       "    }\n",
       "</style>\n",
       "<table border=\"1\" class=\"dataframe\">\n",
       "  <thead>\n",
       "    <tr style=\"text-align: right;\">\n",
       "      <th></th>\n",
       "      <th>Country</th>\n",
       "      <th>Code</th>\n",
       "      <th>Population</th>\n",
       "      <th>GDP per Capita</th>\n",
       "    </tr>\n",
       "  </thead>\n",
       "  <tbody>\n",
       "    <tr>\n",
       "      <th>0</th>\n",
       "      <td>Afghanistan</td>\n",
       "      <td>AFG</td>\n",
       "      <td>32526562.0</td>\n",
       "      <td>594.323081</td>\n",
       "    </tr>\n",
       "    <tr>\n",
       "      <th>1</th>\n",
       "      <td>Albania</td>\n",
       "      <td>ALB</td>\n",
       "      <td>2889167.0</td>\n",
       "      <td>3945.217582</td>\n",
       "    </tr>\n",
       "    <tr>\n",
       "      <th>2</th>\n",
       "      <td>Algeria</td>\n",
       "      <td>ALG</td>\n",
       "      <td>39666519.0</td>\n",
       "      <td>4206.031232</td>\n",
       "    </tr>\n",
       "    <tr>\n",
       "      <th>3</th>\n",
       "      <td>American Samoa*</td>\n",
       "      <td>ASA</td>\n",
       "      <td>55538.0</td>\n",
       "      <td>NaN</td>\n",
       "    </tr>\n",
       "    <tr>\n",
       "      <th>4</th>\n",
       "      <td>Andorra</td>\n",
       "      <td>AND</td>\n",
       "      <td>70473.0</td>\n",
       "      <td>NaN</td>\n",
       "    </tr>\n",
       "  </tbody>\n",
       "</table>\n",
       "</div>"
      ],
      "text/plain": [
       "\n",
       "           Country Code  Population  GDP per Capita\n",
       "\u001b[1;36m0\u001b[0m      Afghanistan  AFG  \u001b[1;36m32526562.0\u001b[0m      \u001b[1;36m594.323081\u001b[0m\n",
       "\u001b[1;36m1\u001b[0m          Albania  ALB   \u001b[1;36m2889167.0\u001b[0m     \u001b[1;36m3945.217582\u001b[0m\n",
       "\u001b[1;36m2\u001b[0m          Algeria  ALG  \u001b[1;36m39666519.0\u001b[0m     \u001b[1;36m4206.031232\u001b[0m\n",
       "\u001b[1;36m3\u001b[0m  American Samoa*  ASA     \u001b[1;36m55538.0\u001b[0m             NaN\n",
       "\u001b[1;36m4\u001b[0m          Andorra  AND     \u001b[1;36m70473.0\u001b[0m             NaN"
      ]
     },
     "execution_count": 33,
     "metadata": {},
     "output_type": "execute_result"
    }
   ],
   "source": [
    "df_dictionary.head()"
   ]
  },
  {
   "cell_type": "code",
   "execution_count": 34,
   "id": "1c766640-6e51-4914-8ba2-7319e0d319bd",
   "metadata": {},
   "outputs": [
    {
     "data": {
      "text/html": [
       "<pre style=\"white-space:pre;overflow-x:auto;line-height:normal;font-family:Menlo,'DejaVu Sans Mono',consolas,'Courier New',monospace\"></pre>\n"
      ],
      "text/plain": []
     },
     "metadata": {},
     "output_type": "display_data"
    },
    {
     "data": {
      "text/html": [
       "<div>\n",
       "<style scoped>\n",
       "    .dataframe tbody tr th:only-of-type {\n",
       "        vertical-align: middle;\n",
       "    }\n",
       "\n",
       "    .dataframe tbody tr th {\n",
       "        vertical-align: top;\n",
       "    }\n",
       "\n",
       "    .dataframe thead th {\n",
       "        text-align: right;\n",
       "    }\n",
       "</style>\n",
       "<table border=\"1\" class=\"dataframe\">\n",
       "  <thead>\n",
       "    <tr style=\"text-align: right;\">\n",
       "      <th></th>\n",
       "      <th>Country</th>\n",
       "      <th>Code</th>\n",
       "      <th>Population</th>\n",
       "      <th>GDP per Capita</th>\n",
       "    </tr>\n",
       "  </thead>\n",
       "  <tbody>\n",
       "    <tr>\n",
       "      <th>196</th>\n",
       "      <td>Vietnam</td>\n",
       "      <td>VIE</td>\n",
       "      <td>91703800.0</td>\n",
       "      <td>2111.138024</td>\n",
       "    </tr>\n",
       "    <tr>\n",
       "      <th>197</th>\n",
       "      <td>Virgin Islands*</td>\n",
       "      <td>ISV</td>\n",
       "      <td>103574.0</td>\n",
       "      <td>NaN</td>\n",
       "    </tr>\n",
       "    <tr>\n",
       "      <th>198</th>\n",
       "      <td>Yemen</td>\n",
       "      <td>YEM</td>\n",
       "      <td>26832215.0</td>\n",
       "      <td>1406.291651</td>\n",
       "    </tr>\n",
       "    <tr>\n",
       "      <th>199</th>\n",
       "      <td>Zambia</td>\n",
       "      <td>ZAM</td>\n",
       "      <td>16211767.0</td>\n",
       "      <td>1304.879014</td>\n",
       "    </tr>\n",
       "    <tr>\n",
       "      <th>200</th>\n",
       "      <td>Zimbabwe</td>\n",
       "      <td>ZIM</td>\n",
       "      <td>15602751.0</td>\n",
       "      <td>924.143819</td>\n",
       "    </tr>\n",
       "  </tbody>\n",
       "</table>\n",
       "</div>"
      ],
      "text/plain": [
       "\n",
       "             Country Code  Population  GDP per Capita\n",
       "\u001b[1;36m196\u001b[0m          Vietnam  VIE  \u001b[1;36m91703800.0\u001b[0m     \u001b[1;36m2111.138024\u001b[0m\n",
       "\u001b[1;36m197\u001b[0m  Virgin Islands*  ISV    \u001b[1;36m103574.0\u001b[0m             NaN\n",
       "\u001b[1;36m198\u001b[0m            Yemen  YEM  \u001b[1;36m26832215.0\u001b[0m     \u001b[1;36m1406.291651\u001b[0m\n",
       "\u001b[1;36m199\u001b[0m           Zambia  ZAM  \u001b[1;36m16211767.0\u001b[0m     \u001b[1;36m1304.879014\u001b[0m\n",
       "\u001b[1;36m200\u001b[0m         Zimbabwe  ZIM  \u001b[1;36m15602751.0\u001b[0m      \u001b[1;36m924.143819\u001b[0m"
      ]
     },
     "execution_count": 34,
     "metadata": {},
     "output_type": "execute_result"
    }
   ],
   "source": [
    "df_dictionary.tail()"
   ]
  },
  {
   "cell_type": "code",
   "execution_count": 35,
   "id": "71e2d86c-cb20-4504-ab70-a36938d75a28",
   "metadata": {},
   "outputs": [
    {
     "data": {
      "text/html": [
       "<pre style=\"white-space:pre;overflow-x:auto;line-height:normal;font-family:Menlo,'DejaVu Sans Mono',consolas,'Courier New',monospace\"></pre>\n"
      ],
      "text/plain": []
     },
     "metadata": {},
     "output_type": "display_data"
    },
    {
     "data": {
      "text/html": [
       "<div>\n",
       "<style scoped>\n",
       "    .dataframe tbody tr th:only-of-type {\n",
       "        vertical-align: middle;\n",
       "    }\n",
       "\n",
       "    .dataframe tbody tr th {\n",
       "        vertical-align: top;\n",
       "    }\n",
       "\n",
       "    .dataframe thead th {\n",
       "        text-align: right;\n",
       "    }\n",
       "</style>\n",
       "<table border=\"1\" class=\"dataframe\">\n",
       "  <thead>\n",
       "    <tr style=\"text-align: right;\">\n",
       "      <th></th>\n",
       "      <th>Population</th>\n",
       "      <th>GDP per Capita</th>\n",
       "    </tr>\n",
       "  </thead>\n",
       "  <tbody>\n",
       "    <tr>\n",
       "      <th>count</th>\n",
       "      <td>1.960000e+02</td>\n",
       "      <td>176.000000</td>\n",
       "    </tr>\n",
       "    <tr>\n",
       "      <th>mean</th>\n",
       "      <td>3.722825e+07</td>\n",
       "      <td>12882.556131</td>\n",
       "    </tr>\n",
       "    <tr>\n",
       "      <th>std</th>\n",
       "      <td>1.399655e+08</td>\n",
       "      <td>17747.141203</td>\n",
       "    </tr>\n",
       "    <tr>\n",
       "      <th>min</th>\n",
       "      <td>1.022200e+04</td>\n",
       "      <td>277.068309</td>\n",
       "    </tr>\n",
       "    <tr>\n",
       "      <th>25%</th>\n",
       "      <td>1.638278e+06</td>\n",
       "      <td>1781.096847</td>\n",
       "    </tr>\n",
       "    <tr>\n",
       "      <th>50%</th>\n",
       "      <td>7.450124e+06</td>\n",
       "      <td>5233.583395</td>\n",
       "    </tr>\n",
       "    <tr>\n",
       "      <th>75%</th>\n",
       "      <td>2.557454e+07</td>\n",
       "      <td>15494.683646</td>\n",
       "    </tr>\n",
       "    <tr>\n",
       "      <th>max</th>\n",
       "      <td>1.371220e+09</td>\n",
       "      <td>101449.968168</td>\n",
       "    </tr>\n",
       "  </tbody>\n",
       "</table>\n",
       "</div>"
      ],
      "text/plain": [
       "\n",
       "         Population  GDP per Capita\n",
       "count  \u001b[1;36m1.960000e+02\u001b[0m      \u001b[1;36m176.000000\u001b[0m\n",
       "mean   \u001b[1;36m3.722825e+07\u001b[0m    \u001b[1;36m12882.556131\u001b[0m\n",
       "std    \u001b[1;36m1.399655e+08\u001b[0m    \u001b[1;36m17747.141203\u001b[0m\n",
       "min    \u001b[1;36m1.022200e+04\u001b[0m      \u001b[1;36m277.068309\u001b[0m\n",
       "\u001b[1;36m25\u001b[0m%    \u001b[1;36m1.638278e+06\u001b[0m     \u001b[1;36m1781.096847\u001b[0m\n",
       "\u001b[1;36m50\u001b[0m%    \u001b[1;36m7.450124e+06\u001b[0m     \u001b[1;36m5233.583395\u001b[0m\n",
       "\u001b[1;36m75\u001b[0m%    \u001b[1;36m2.557454e+07\u001b[0m    \u001b[1;36m15494.683646\u001b[0m\n",
       "max    \u001b[1;36m1.371220e+09\u001b[0m   \u001b[1;36m101449.968168\u001b[0m"
      ]
     },
     "execution_count": 35,
     "metadata": {},
     "output_type": "execute_result"
    }
   ],
   "source": [
    "df_dictionary.describe()"
   ]
  },
  {
   "cell_type": "code",
   "execution_count": 39,
   "id": "a8cc347c-dd3b-4c17-8945-4683a0085318",
   "metadata": {},
   "outputs": [
    {
     "data": {
      "text/html": [
       "<pre style=\"white-space:pre;overflow-x:auto;line-height:normal;font-family:Menlo,'DejaVu Sans Mono',consolas,'Courier New',monospace\"></pre>\n"
      ],
      "text/plain": []
     },
     "metadata": {},
     "output_type": "display_data"
    },
    {
     "data": {
      "text/plain": [
       "\n",
       "\u001b[1;36m0\u001b[0m       \u001b[1;36m594.323081\u001b[0m\n",
       "\u001b[1;36m1\u001b[0m      \u001b[1;36m3945.217582\u001b[0m\n",
       "\u001b[1;36m2\u001b[0m      \u001b[1;36m4206.031232\u001b[0m\n",
       "\u001b[1;36m3\u001b[0m              NaN\n",
       "\u001b[1;36m4\u001b[0m              NaN\n",
       "          \u001b[33m...\u001b[0m     \n",
       "\u001b[1;36m196\u001b[0m    \u001b[1;36m2111.138024\u001b[0m\n",
       "\u001b[1;36m197\u001b[0m            NaN\n",
       "\u001b[1;36m198\u001b[0m    \u001b[1;36m1406.291651\u001b[0m\n",
       "\u001b[1;36m199\u001b[0m    \u001b[1;36m1304.879014\u001b[0m\n",
       "\u001b[1;36m200\u001b[0m     \u001b[1;36m924.143819\u001b[0m\n",
       "Name: GDP per Capita, Length: \u001b[1;36m201\u001b[0m, dtype: float64"
      ]
     },
     "execution_count": 39,
     "metadata": {},
     "output_type": "execute_result"
    }
   ],
   "source": [
    "df_dictionary['GDP per Capita']"
   ]
  },
  {
   "cell_type": "code",
   "execution_count": 41,
   "id": "ae4e9d68-6dad-419c-8d40-ba13a9934260",
   "metadata": {},
   "outputs": [
    {
     "data": {
      "text/html": [
       "<pre style=\"white-space:pre;overflow-x:auto;line-height:normal;font-family:Menlo,'DejaVu Sans Mono',consolas,'Courier New',monospace\"></pre>\n"
      ],
      "text/plain": []
     },
     "metadata": {},
     "output_type": "display_data"
    },
    {
     "data": {
      "text/plain": [
       "\n",
       "Country            \u001b[1;36m0\u001b[0m\n",
       "Code               \u001b[1;36m0\u001b[0m\n",
       "Population         \u001b[1;36m5\u001b[0m\n",
       "GDP per Capita    \u001b[1;36m25\u001b[0m\n",
       "dtype: int64"
      ]
     },
     "execution_count": 41,
     "metadata": {},
     "output_type": "execute_result"
    }
   ],
   "source": [
    "df_dictionary.isnull().sum()"
   ]
  },
  {
   "cell_type": "code",
   "execution_count": 48,
   "id": "56616594-f6b6-4707-a44a-346935035fb7",
   "metadata": {},
   "outputs": [],
   "source": [
    "def truncate_series(s: pd.Series) -> pd.Series:\n",
    "    return np.trunc(s*100)/100"
   ]
  },
  {
   "cell_type": "code",
   "execution_count": 50,
   "id": "b5ff51ea-3f4a-4807-8004-0c872fdfdbd1",
   "metadata": {},
   "outputs": [
    {
     "data": {
      "text/html": [
       "<pre style=\"white-space:pre;overflow-x:auto;line-height:normal;font-family:Menlo,'DejaVu Sans Mono',consolas,'Courier New',monospace\"></pre>\n"
      ],
      "text/plain": []
     },
     "metadata": {},
     "output_type": "display_data"
    },
    {
     "data": {
      "text/plain": [
       "\n",
       "\u001b[1;36m0\u001b[0m       \u001b[1;36m594.32\u001b[0m\n",
       "\u001b[1;36m1\u001b[0m      \u001b[1;36m3945.21\u001b[0m\n",
       "\u001b[1;36m2\u001b[0m      \u001b[1;36m4206.03\u001b[0m\n",
       "\u001b[1;36m3\u001b[0m          NaN\n",
       "\u001b[1;36m4\u001b[0m          NaN\n",
       "        \u001b[33m...\u001b[0m   \n",
       "\u001b[1;36m196\u001b[0m    \u001b[1;36m2111.13\u001b[0m\n",
       "\u001b[1;36m197\u001b[0m        NaN\n",
       "\u001b[1;36m198\u001b[0m    \u001b[1;36m1406.29\u001b[0m\n",
       "\u001b[1;36m199\u001b[0m    \u001b[1;36m1304.87\u001b[0m\n",
       "\u001b[1;36m200\u001b[0m     \u001b[1;36m924.14\u001b[0m\n",
       "Name: GDP per Capita, Length: \u001b[1;36m201\u001b[0m, dtype: float64"
      ]
     },
     "execution_count": 50,
     "metadata": {},
     "output_type": "execute_result"
    }
   ],
   "source": [
    "truncate_series(df_dictionary['GDP per Capita'])"
   ]
  },
  {
   "cell_type": "code",
   "execution_count": 52,
   "id": "eaab0c53-a738-41fa-8001-b7751663fd7b",
   "metadata": {},
   "outputs": [],
   "source": [
    "df_dictionary['GDP per Capita'] = truncate_series(df_dictionary['GDP per Capita'])"
   ]
  },
  {
   "cell_type": "code",
   "execution_count": 53,
   "id": "39bfb9e5-2a87-4cc4-a130-a510b6e84b2c",
   "metadata": {},
   "outputs": [
    {
     "data": {
      "text/html": [
       "<pre style=\"white-space:pre;overflow-x:auto;line-height:normal;font-family:Menlo,'DejaVu Sans Mono',consolas,'Courier New',monospace\"></pre>\n"
      ],
      "text/plain": []
     },
     "metadata": {},
     "output_type": "display_data"
    },
    {
     "data": {
      "text/html": [
       "<div>\n",
       "<style scoped>\n",
       "    .dataframe tbody tr th:only-of-type {\n",
       "        vertical-align: middle;\n",
       "    }\n",
       "\n",
       "    .dataframe tbody tr th {\n",
       "        vertical-align: top;\n",
       "    }\n",
       "\n",
       "    .dataframe thead th {\n",
       "        text-align: right;\n",
       "    }\n",
       "</style>\n",
       "<table border=\"1\" class=\"dataframe\">\n",
       "  <thead>\n",
       "    <tr style=\"text-align: right;\">\n",
       "      <th></th>\n",
       "      <th>Country</th>\n",
       "      <th>Code</th>\n",
       "      <th>Population</th>\n",
       "      <th>GDP per Capita</th>\n",
       "    </tr>\n",
       "  </thead>\n",
       "  <tbody>\n",
       "    <tr>\n",
       "      <th>0</th>\n",
       "      <td>Afghanistan</td>\n",
       "      <td>AFG</td>\n",
       "      <td>32526562.0</td>\n",
       "      <td>594.32</td>\n",
       "    </tr>\n",
       "    <tr>\n",
       "      <th>1</th>\n",
       "      <td>Albania</td>\n",
       "      <td>ALB</td>\n",
       "      <td>2889167.0</td>\n",
       "      <td>3945.21</td>\n",
       "    </tr>\n",
       "    <tr>\n",
       "      <th>2</th>\n",
       "      <td>Algeria</td>\n",
       "      <td>ALG</td>\n",
       "      <td>39666519.0</td>\n",
       "      <td>4206.03</td>\n",
       "    </tr>\n",
       "    <tr>\n",
       "      <th>3</th>\n",
       "      <td>American Samoa*</td>\n",
       "      <td>ASA</td>\n",
       "      <td>55538.0</td>\n",
       "      <td>NaN</td>\n",
       "    </tr>\n",
       "    <tr>\n",
       "      <th>4</th>\n",
       "      <td>Andorra</td>\n",
       "      <td>AND</td>\n",
       "      <td>70473.0</td>\n",
       "      <td>NaN</td>\n",
       "    </tr>\n",
       "    <tr>\n",
       "      <th>...</th>\n",
       "      <td>...</td>\n",
       "      <td>...</td>\n",
       "      <td>...</td>\n",
       "      <td>...</td>\n",
       "    </tr>\n",
       "    <tr>\n",
       "      <th>196</th>\n",
       "      <td>Vietnam</td>\n",
       "      <td>VIE</td>\n",
       "      <td>91703800.0</td>\n",
       "      <td>2111.13</td>\n",
       "    </tr>\n",
       "    <tr>\n",
       "      <th>197</th>\n",
       "      <td>Virgin Islands*</td>\n",
       "      <td>ISV</td>\n",
       "      <td>103574.0</td>\n",
       "      <td>NaN</td>\n",
       "    </tr>\n",
       "    <tr>\n",
       "      <th>198</th>\n",
       "      <td>Yemen</td>\n",
       "      <td>YEM</td>\n",
       "      <td>26832215.0</td>\n",
       "      <td>1406.29</td>\n",
       "    </tr>\n",
       "    <tr>\n",
       "      <th>199</th>\n",
       "      <td>Zambia</td>\n",
       "      <td>ZAM</td>\n",
       "      <td>16211767.0</td>\n",
       "      <td>1304.87</td>\n",
       "    </tr>\n",
       "    <tr>\n",
       "      <th>200</th>\n",
       "      <td>Zimbabwe</td>\n",
       "      <td>ZIM</td>\n",
       "      <td>15602751.0</td>\n",
       "      <td>924.14</td>\n",
       "    </tr>\n",
       "  </tbody>\n",
       "</table>\n",
       "<p>201 rows × 4 columns</p>\n",
       "</div>"
      ],
      "text/plain": [
       "\n",
       "             Country Code  Population  GDP per Capita\n",
       "\u001b[1;36m0\u001b[0m        Afghanistan  AFG  \u001b[1;36m32526562.0\u001b[0m          \u001b[1;36m594.32\u001b[0m\n",
       "\u001b[1;36m1\u001b[0m            Albania  ALB   \u001b[1;36m2889167.0\u001b[0m         \u001b[1;36m3945.21\u001b[0m\n",
       "\u001b[1;36m2\u001b[0m            Algeria  ALG  \u001b[1;36m39666519.0\u001b[0m         \u001b[1;36m4206.03\u001b[0m\n",
       "\u001b[1;36m3\u001b[0m    American Samoa*  ASA     \u001b[1;36m55538.0\u001b[0m             NaN\n",
       "\u001b[1;36m4\u001b[0m            Andorra  AND     \u001b[1;36m70473.0\u001b[0m             NaN\n",
       "..               \u001b[33m...\u001b[0m  \u001b[33m...\u001b[0m         \u001b[33m...\u001b[0m             \u001b[33m...\u001b[0m\n",
       "\u001b[1;36m196\u001b[0m          Vietnam  VIE  \u001b[1;36m91703800.0\u001b[0m         \u001b[1;36m2111.13\u001b[0m\n",
       "\u001b[1;36m197\u001b[0m  Virgin Islands*  ISV    \u001b[1;36m103574.0\u001b[0m             NaN\n",
       "\u001b[1;36m198\u001b[0m            Yemen  YEM  \u001b[1;36m26832215.0\u001b[0m         \u001b[1;36m1406.29\u001b[0m\n",
       "\u001b[1;36m199\u001b[0m           Zambia  ZAM  \u001b[1;36m16211767.0\u001b[0m         \u001b[1;36m1304.87\u001b[0m\n",
       "\u001b[1;36m200\u001b[0m         Zimbabwe  ZIM  \u001b[1;36m15602751.0\u001b[0m          \u001b[1;36m924.14\u001b[0m\n",
       "\n",
       "\u001b[1m[\u001b[0m\u001b[1;36m201\u001b[0m rows x \u001b[1;36m4\u001b[0m columns\u001b[1m]\u001b[0m"
      ]
     },
     "execution_count": 53,
     "metadata": {},
     "output_type": "execute_result"
    }
   ],
   "source": [
    "df_dictionary"
   ]
  },
  {
   "cell_type": "code",
   "execution_count": 54,
   "id": "ecafe693-fd20-482f-b3d5-0b9c08e62942",
   "metadata": {},
   "outputs": [],
   "source": [
    "def fillna(df: pd.DataFrame, col: str, value=0) -> pd.DataFrame:\n",
    "    df[col] = df[col].fillna(value)\n",
    "    return df"
   ]
  },
  {
   "cell_type": "code",
   "execution_count": 56,
   "id": "fb8b7827-5884-4f7e-9681-03bf62f8512f",
   "metadata": {},
   "outputs": [],
   "source": [
    "df_dictionary = fillna(df_dictionary, \"GDP per Capita\", 0)"
   ]
  },
  {
   "cell_type": "code",
   "execution_count": 57,
   "id": "eae3dcab-f5d9-4283-b71e-779430bc6763",
   "metadata": {},
   "outputs": [
    {
     "data": {
      "text/html": [
       "<pre style=\"white-space:pre;overflow-x:auto;line-height:normal;font-family:Menlo,'DejaVu Sans Mono',consolas,'Courier New',monospace\"></pre>\n"
      ],
      "text/plain": []
     },
     "metadata": {},
     "output_type": "display_data"
    },
    {
     "data": {
      "text/html": [
       "<div>\n",
       "<style scoped>\n",
       "    .dataframe tbody tr th:only-of-type {\n",
       "        vertical-align: middle;\n",
       "    }\n",
       "\n",
       "    .dataframe tbody tr th {\n",
       "        vertical-align: top;\n",
       "    }\n",
       "\n",
       "    .dataframe thead th {\n",
       "        text-align: right;\n",
       "    }\n",
       "</style>\n",
       "<table border=\"1\" class=\"dataframe\">\n",
       "  <thead>\n",
       "    <tr style=\"text-align: right;\">\n",
       "      <th></th>\n",
       "      <th>Country</th>\n",
       "      <th>Code</th>\n",
       "      <th>Population</th>\n",
       "      <th>GDP per Capita</th>\n",
       "    </tr>\n",
       "  </thead>\n",
       "  <tbody>\n",
       "    <tr>\n",
       "      <th>0</th>\n",
       "      <td>Afghanistan</td>\n",
       "      <td>AFG</td>\n",
       "      <td>32526562.0</td>\n",
       "      <td>594.32</td>\n",
       "    </tr>\n",
       "    <tr>\n",
       "      <th>1</th>\n",
       "      <td>Albania</td>\n",
       "      <td>ALB</td>\n",
       "      <td>2889167.0</td>\n",
       "      <td>3945.21</td>\n",
       "    </tr>\n",
       "    <tr>\n",
       "      <th>2</th>\n",
       "      <td>Algeria</td>\n",
       "      <td>ALG</td>\n",
       "      <td>39666519.0</td>\n",
       "      <td>4206.03</td>\n",
       "    </tr>\n",
       "    <tr>\n",
       "      <th>3</th>\n",
       "      <td>American Samoa*</td>\n",
       "      <td>ASA</td>\n",
       "      <td>55538.0</td>\n",
       "      <td>0.00</td>\n",
       "    </tr>\n",
       "    <tr>\n",
       "      <th>4</th>\n",
       "      <td>Andorra</td>\n",
       "      <td>AND</td>\n",
       "      <td>70473.0</td>\n",
       "      <td>0.00</td>\n",
       "    </tr>\n",
       "    <tr>\n",
       "      <th>...</th>\n",
       "      <td>...</td>\n",
       "      <td>...</td>\n",
       "      <td>...</td>\n",
       "      <td>...</td>\n",
       "    </tr>\n",
       "    <tr>\n",
       "      <th>196</th>\n",
       "      <td>Vietnam</td>\n",
       "      <td>VIE</td>\n",
       "      <td>91703800.0</td>\n",
       "      <td>2111.13</td>\n",
       "    </tr>\n",
       "    <tr>\n",
       "      <th>197</th>\n",
       "      <td>Virgin Islands*</td>\n",
       "      <td>ISV</td>\n",
       "      <td>103574.0</td>\n",
       "      <td>0.00</td>\n",
       "    </tr>\n",
       "    <tr>\n",
       "      <th>198</th>\n",
       "      <td>Yemen</td>\n",
       "      <td>YEM</td>\n",
       "      <td>26832215.0</td>\n",
       "      <td>1406.29</td>\n",
       "    </tr>\n",
       "    <tr>\n",
       "      <th>199</th>\n",
       "      <td>Zambia</td>\n",
       "      <td>ZAM</td>\n",
       "      <td>16211767.0</td>\n",
       "      <td>1304.87</td>\n",
       "    </tr>\n",
       "    <tr>\n",
       "      <th>200</th>\n",
       "      <td>Zimbabwe</td>\n",
       "      <td>ZIM</td>\n",
       "      <td>15602751.0</td>\n",
       "      <td>924.14</td>\n",
       "    </tr>\n",
       "  </tbody>\n",
       "</table>\n",
       "<p>201 rows × 4 columns</p>\n",
       "</div>"
      ],
      "text/plain": [
       "\n",
       "             Country Code  Population  GDP per Capita\n",
       "\u001b[1;36m0\u001b[0m        Afghanistan  AFG  \u001b[1;36m32526562.0\u001b[0m          \u001b[1;36m594.32\u001b[0m\n",
       "\u001b[1;36m1\u001b[0m            Albania  ALB   \u001b[1;36m2889167.0\u001b[0m         \u001b[1;36m3945.21\u001b[0m\n",
       "\u001b[1;36m2\u001b[0m            Algeria  ALG  \u001b[1;36m39666519.0\u001b[0m         \u001b[1;36m4206.03\u001b[0m\n",
       "\u001b[1;36m3\u001b[0m    American Samoa*  ASA     \u001b[1;36m55538.0\u001b[0m            \u001b[1;36m0.00\u001b[0m\n",
       "\u001b[1;36m4\u001b[0m            Andorra  AND     \u001b[1;36m70473.0\u001b[0m            \u001b[1;36m0.00\u001b[0m\n",
       "..               \u001b[33m...\u001b[0m  \u001b[33m...\u001b[0m         \u001b[33m...\u001b[0m             \u001b[33m...\u001b[0m\n",
       "\u001b[1;36m196\u001b[0m          Vietnam  VIE  \u001b[1;36m91703800.0\u001b[0m         \u001b[1;36m2111.13\u001b[0m\n",
       "\u001b[1;36m197\u001b[0m  Virgin Islands*  ISV    \u001b[1;36m103574.0\u001b[0m            \u001b[1;36m0.00\u001b[0m\n",
       "\u001b[1;36m198\u001b[0m            Yemen  YEM  \u001b[1;36m26832215.0\u001b[0m         \u001b[1;36m1406.29\u001b[0m\n",
       "\u001b[1;36m199\u001b[0m           Zambia  ZAM  \u001b[1;36m16211767.0\u001b[0m         \u001b[1;36m1304.87\u001b[0m\n",
       "\u001b[1;36m200\u001b[0m         Zimbabwe  ZIM  \u001b[1;36m15602751.0\u001b[0m          \u001b[1;36m924.14\u001b[0m\n",
       "\n",
       "\u001b[1m[\u001b[0m\u001b[1;36m201\u001b[0m rows x \u001b[1;36m4\u001b[0m columns\u001b[1m]\u001b[0m"
      ]
     },
     "execution_count": 57,
     "metadata": {},
     "output_type": "execute_result"
    }
   ],
   "source": [
    "df_dictionary"
   ]
  },
  {
   "cell_type": "code",
   "execution_count": null,
   "id": "c096e6b8-aeab-4fc9-acd3-3f17fa065f11",
   "metadata": {},
   "outputs": [],
   "source": []
  }
 ],
 "metadata": {
  "kernelspec": {
   "display_name": "Python 3 (ipykernel)",
   "language": "python",
   "name": "python3"
  },
  "language_info": {
   "codemirror_mode": {
    "name": "ipython",
    "version": 3
   },
   "file_extension": ".py",
   "mimetype": "text/x-python",
   "name": "python",
   "nbconvert_exporter": "python",
   "pygments_lexer": "ipython3",
   "version": "3.12.6"
  }
 },
 "nbformat": 4,
 "nbformat_minor": 5
}
