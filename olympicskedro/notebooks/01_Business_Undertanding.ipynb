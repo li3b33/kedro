{
 "cells": [
  {
   "cell_type": "markdown",
   "metadata": {
    "id": "fKTNanHrP_Ss"
   },
   "source": [
    "# Informe Técnico - Examen Parcial 1: Caso Juegos Olimpicos\n",
    "\n",
    "\n",
    "Integrantes:\n",
    "* Alan Barria\n",
    "* Gonzalo Gallardo\n",
    "\n",
    "Docente: Giocrisrai\n",
    "\n",
    "Sección: MLY0100 -"
   ]
  },
  {
   "cell_type": "markdown",
   "metadata": {
    "id": "sLhG0vFJQOKN"
   },
   "source": [
    "# Caso Fundamentos de Machine Learning"
   ]
  },
  {
   "cell_type": "markdown",
   "metadata": {
    "id": "k9qLU41OQUDp"
   },
   "source": [
    "CONTEXTO DEL CASO\n",
    "\n",
    "El Comité Olímpico Internacional (COI) ha contactado a nuestro equipo de análisis de datos y modelado de Machine Learning para analizar la información histórica de los Juegos Olímpicos de Invierno y Verano.\n",
    "\n",
    "Los datos contienen más de 120 años de historia olímpica, con información sobre deportistas, disciplinas, países y medallas obtenidas. Además, se cuenta con un dataset adicional que incluye datos socioeconómicos de los países (población y PIB per cápita).\n",
    "\n",
    "El objetivo es comprender patrones históricos de desempeño, detectar relaciones entre variables deportivas y socioeconómicas, y preparar la información para futuros modelos predictivos (ej. predecir qué países o atletas tienen más posibilidades de ganar medallas)."
   ]
  },
  {
   "cell_type": "markdown",
   "metadata": {
    "id": "e9__Q6VlQdxW"
   },
   "source": [
    "# Fase 1: Business Understanding"
   ]
  },
  {
   "cell_type": "markdown",
   "metadata": {
    "id": "8rQCvVzaQugG"
   },
   "source": [
    "##1. Objetivo del negocio"
   ]
  },
  {
   "cell_type": "markdown",
   "metadata": {
    "id": "WOxT2gKUQwl9"
   },
   "source": [
    "El COI busca:\n",
    "\n",
    "Identificar patrones de desempeño de países y atletas en diferentes disciplinas.\n",
    "\n",
    "Relacionar indicadores socioeconómicos (PIB, población) con el éxito en los juegos.\n",
    "\n",
    "Preparar un dataset limpio y listo para modelos predictivos de clasificación (ej. ganar medalla) o regresión (ej. número de medallas)."
   ]
  },
  {
   "cell_type": "markdown",
   "metadata": {
    "id": "48KjbDKzRYSB"
   },
   "source": [
    "##2. Evaluación de la situación"
   ]
  },
  {
   "cell_type": "markdown",
   "metadata": {
    "id": "1zUtfSyJQ6th"
   },
   "source": [
    "* Datos de dos archivos principales:\n",
    "\n",
    "  * winter.parquet: resultados Juegos Olímpicos de Invierno.\n",
    "\n",
    "  * summer.parquet: resultados Juegos Olímpicos de Verano.\n",
    "\n",
    "* Datos socioeconómicos:\n",
    "\n",
    " * dictionary.parquet: países con población y PIB per cápita.\n",
    "\n",
    "* Posibles problemas:\n",
    "\n",
    "  * Valores faltantes en medallas, atletas o países.\n",
    "\n",
    "  * Sesgo temporal (antes las mujeres tenían menos participación).\n",
    "\n",
    "  * Outliers en variables socioeconómicas (PIB per cápita extremadamente alto en países pequeños)."
   ]
  },
  {
   "cell_type": "markdown",
   "metadata": {
    "id": "ME8acBFPRb4E"
   },
   "source": [
    "##3. Objetivos del proyecto de Data Mining"
   ]
  },
  {
   "cell_type": "markdown",
   "metadata": {
    "id": "0D4_E-9VRfw8"
   },
   "source": [
    "* Realizar un análisis exploratorio de datos (EDA) para entender la distribución de las variables.\n",
    "\n",
    "* Identificar patrones por país, género y disciplina.\n",
    "\n",
    "* Detectar y tratar missing values y outliers.\n",
    "\n",
    "* Dejar los datos listos para aplicar modelos predictivos."
   ]
  },
  {
   "cell_type": "markdown",
   "metadata": {
    "id": "ew-3DEa-Rm-X"
   },
   "source": [
    "##4. Plan de accion"
   ]
  },
  {
   "cell_type": "markdown",
   "metadata": {
    "id": "pzmpkKTBRqNO"
   },
   "source": [
    "* Comprensión del negocio y definición de objetivos.\n",
    "\n",
    "* Exploración inicial de los datasets.\n",
    "\n",
    "* Limpieza de valores faltantes y outliers.\n",
    "\n",
    "* Análisis exploratorio de datos (distribuciones, correlaciones, tendencias).\n",
    "\n",
    "* Preparación de datos para modelos de ML."
   ]
  }
 ],
 "metadata": {
  "colab": {
   "authorship_tag": "ABX9TyPlB/79YaA1XZ36PewNXRVn",
   "provenance": []
  },
  "kernelspec": {
   "display_name": "Python 3 (ipykernel)",
   "language": "python",
   "name": "python3"
  },
  "language_info": {
   "codemirror_mode": {
    "name": "ipython",
    "version": 3
   },
   "file_extension": ".py",
   "mimetype": "text/x-python",
   "name": "python",
   "nbconvert_exporter": "python",
   "pygments_lexer": "ipython3",
   "version": "3.12.6"
  }
 },
 "nbformat": 4,
 "nbformat_minor": 4
}
